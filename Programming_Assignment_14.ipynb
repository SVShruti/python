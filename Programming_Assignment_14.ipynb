{
  "cells": [
    {
      "cell_type": "markdown",
      "metadata": {
        "id": "view-in-github",
        "colab_type": "text"
      },
      "source": [
        "<a href=\"https://colab.research.google.com/github/SVShruti/python/blob/main/Programming_Assignment_14.ipynb\" target=\"_parent\"><img src=\"https://colab.research.google.com/assets/colab-badge.svg\" alt=\"Open In Colab\"/></a>"
      ]
    },
    {
      "cell_type": "markdown",
      "id": "9bf47949",
      "metadata": {
        "id": "9bf47949"
      },
      "source": [
        "## Python Basic Programming Assignment - 14\n",
        "---------------------"
      ]
    },
    {
      "cell_type": "markdown",
      "id": "a8074819",
      "metadata": {
        "id": "a8074819"
      },
      "source": [
        "### 1. Define a class with a generator which can iterate the numbers, which are divisible by 7, between a given range 0 and n."
      ]
    },
    {
      "cell_type": "code",
      "source": [
        "class DivisibleBySeven:\n",
        "    def __init__(self, n):\n",
        "        self.n = n\n",
        "\n",
        "    def generate_divisible_by_seven(self):\n",
        "        for i in range(self.n + 1):\n",
        "            if i % 7 == 0:\n",
        "                yield i\n",
        "\n",
        "# Usage example:\n",
        "n = 50  # Replace with the desired range\n",
        "divisible_by_seven_iterator = DivisibleBySeven(n).generate_divisible_by_seven()\n",
        "\n",
        "for number in divisible_by_seven_iterator:\n",
        "    print(number)\n"
      ],
      "metadata": {
        "id": "-sEWL-THxPTz",
        "outputId": "f6b1a750-8a96-4ac7-e527-a610c3c35aa7",
        "colab": {
          "base_uri": "https://localhost:8080/"
        }
      },
      "id": "-sEWL-THxPTz",
      "execution_count": 1,
      "outputs": [
        {
          "output_type": "stream",
          "name": "stdout",
          "text": [
            "0\n",
            "7\n",
            "14\n",
            "21\n",
            "28\n",
            "35\n",
            "42\n",
            "49\n"
          ]
        }
      ]
    },
    {
      "cell_type": "markdown",
      "id": "8127371b",
      "metadata": {
        "id": "8127371b"
      },
      "source": [
        "\n",
        "### 2. Write a program to compute the frequency of the words from the input. The output should output after sorting the key alphanumerically."
      ]
    },
    {
      "cell_type": "code",
      "source": [
        "def word_frequency(input_string):\n",
        "    # Split the input string into words\n",
        "    words = input_string.split()\n",
        "\n",
        "    # Create a dictionary to store word frequencies\n",
        "    word_freq = {}\n",
        "\n",
        "    # Count the frequency of each word\n",
        "    for word in words:\n",
        "        # Remove punctuation and convert to lowercase for consistency\n",
        "        word = word.strip('.,!?()-_').lower()\n",
        "\n",
        "        # Update the word frequency in the dictionary\n",
        "        if word:\n",
        "            word_freq[word] = word_freq.get(word, 0) + 1\n",
        "\n",
        "    # Sort the dictionary by keys (words) in alphanumerical order\n",
        "    sorted_word_freq = dict(sorted(word_freq.items()))\n",
        "\n",
        "    return sorted_word_freq\n",
        "\n",
        "# Input string\n",
        "input_text = \"This is a simple example. Simple is as simple does.\"\n",
        "\n",
        "# Calculate word frequency\n",
        "result = word_frequency(input_text)\n",
        "\n",
        "# Display the sorted word frequencies\n",
        "for word, frequency in result.items():\n",
        "    print(f\"{word}: {frequency}\")\n"
      ],
      "metadata": {
        "id": "MYbRRKlPxalE",
        "outputId": "84ceeefb-7e24-4219-bb3a-cd5c022cf13b",
        "colab": {
          "base_uri": "https://localhost:8080/"
        }
      },
      "id": "MYbRRKlPxalE",
      "execution_count": 2,
      "outputs": [
        {
          "output_type": "stream",
          "name": "stdout",
          "text": [
            "a: 1\n",
            "as: 1\n",
            "does: 1\n",
            "example: 1\n",
            "is: 2\n",
            "simple: 3\n",
            "this: 1\n"
          ]
        }
      ]
    },
    {
      "cell_type": "markdown",
      "id": "4e869c3c",
      "metadata": {
        "id": "4e869c3c"
      },
      "source": [
        "\n",
        "### 3. Define a class Person and its two child classes: Male and Female. All classes have a method \"getGender\" which can print \"Male\" for Male class and \"Female\" for Female class."
      ]
    },
    {
      "cell_type": "code",
      "source": [
        "class Person:\n",
        "    def getGender(self):\n",
        "        return \"Unknown\"\n",
        "\n",
        "class Male(Person):\n",
        "    def getGender(self):\n",
        "        return \"Male\"\n",
        "\n",
        "class Female(Person):\n",
        "    def getGender(self):\n",
        "        return \"Female\"\n",
        "\n",
        "# Example usage:\n",
        "person = Person()\n",
        "male = Male()\n",
        "female = Female()\n",
        "\n",
        "print(person.getGender())  # Output: \"Unknown\"\n",
        "print(male.getGender())    # Output: \"Male\"\n",
        "print(female.getGender())  # Output: \"Female\"\n"
      ],
      "metadata": {
        "id": "6YOHGzTfxgTk",
        "outputId": "33cf3b31-0c66-4cd2-b33f-17dd294912e6",
        "colab": {
          "base_uri": "https://localhost:8080/"
        }
      },
      "id": "6YOHGzTfxgTk",
      "execution_count": 3,
      "outputs": [
        {
          "output_type": "stream",
          "name": "stdout",
          "text": [
            "Unknown\n",
            "Male\n",
            "Female\n"
          ]
        }
      ]
    },
    {
      "cell_type": "markdown",
      "id": "58b5940f",
      "metadata": {
        "id": "58b5940f"
      },
      "source": [
        "\n",
        "### 4. Please write a program to generate all sentences where subject is in [\"I\", \"You\"] and verb is in ['Play', \"Love\"] and the object is in [\"Hockey\",\"Football\"]."
      ]
    },
    {
      "cell_type": "code",
      "source": [
        "subjects = [\"I\", \"You\"]\n",
        "verbs = [\"Play\", \"Love\"]\n",
        "objects = [\"Hockey\", \"Football\"]\n",
        "\n",
        "sentences = []\n",
        "\n",
        "for subject in subjects:\n",
        "    for verb in verbs:\n",
        "        for obj in objects:\n",
        "            sentence = f\"{subject} {verb} {obj}.\"\n",
        "            sentences.append(sentence)\n",
        "\n",
        "# Print all generated sentences\n",
        "for sentence in sentences:\n",
        "    print(sentence)\n"
      ],
      "metadata": {
        "id": "icEPKjMMxtyG",
        "outputId": "b2224732-9b54-481e-a3d2-8832f617ab9e",
        "colab": {
          "base_uri": "https://localhost:8080/"
        }
      },
      "id": "icEPKjMMxtyG",
      "execution_count": 4,
      "outputs": [
        {
          "output_type": "stream",
          "name": "stdout",
          "text": [
            "I Play Hockey.\n",
            "I Play Football.\n",
            "I Love Hockey.\n",
            "I Love Football.\n",
            "You Play Hockey.\n",
            "You Play Football.\n",
            "You Love Hockey.\n",
            "You Love Football.\n"
          ]
        }
      ]
    },
    {
      "cell_type": "markdown",
      "id": "0ddf4f59",
      "metadata": {
        "id": "0ddf4f59"
      },
      "source": [
        "\n",
        "### 5. Please write a program to compress and decompress the string \"hello world!hello world!hello world!hello world!\""
      ]
    },
    {
      "cell_type": "code",
      "source": [
        "import gzip\n",
        "import io\n",
        "\n",
        "# Original string\n",
        "original_string = \"hello world!hello world!hello world!hello world!\"\n",
        "\n",
        "# Compress the string\n",
        "compressed_data = io.BytesIO()\n",
        "with gzip.GzipFile(fileobj=compressed_data, mode='wb') as f:\n",
        "    f.write(original_string.encode('utf-8'))\n",
        "\n",
        "compressed_data.seek(0)  # Reset the file pointer to the beginning\n",
        "\n",
        "# Decompress the string\n",
        "decompressed_data = io.BytesIO(compressed_data.read())\n",
        "with gzip.GzipFile(fileobj=decompressed_data, mode='rb') as f:\n",
        "    decompressed_string = f.read().decode('utf-8')\n",
        "\n",
        "# Print the results\n",
        "print(\"Original String:\")\n",
        "print(original_string)\n",
        "\n",
        "print(\"\\nCompressed Data:\")\n",
        "print(compressed_data.getvalue())\n",
        "\n",
        "print(\"\\nDecompressed String:\")\n",
        "print(decompressed_string)\n"
      ],
      "metadata": {
        "id": "sfxKRffVxzlQ",
        "outputId": "90caeda5-35ff-43ad-a519-286048cc89d9",
        "colab": {
          "base_uri": "https://localhost:8080/"
        }
      },
      "id": "sfxKRffVxzlQ",
      "execution_count": 5,
      "outputs": [
        {
          "output_type": "stream",
          "name": "stdout",
          "text": [
            "Original String:\n",
            "hello world!hello world!hello world!hello world!\n",
            "\n",
            "Compressed Data:\n",
            "b'\\x1f\\x8b\\x08\\x00\\xcd\\xa9\\xfed\\x02\\xff\\xcbH\\xcd\\xc9\\xc9W(\\xcf/\\xcaIQ\\xcc \\x82\\r\\x00\\xd3\\xe6\\xcf\\xae0\\x00\\x00\\x00'\n",
            "\n",
            "Decompressed String:\n",
            "hello world!hello world!hello world!hello world!\n"
          ]
        }
      ]
    },
    {
      "cell_type": "markdown",
      "id": "2aeb595b",
      "metadata": {
        "id": "2aeb595b"
      },
      "source": [
        "\n",
        "### 6. Please write a binary search function which searches an item in a sorted list. The function should return the index of element to be searched in the list."
      ]
    },
    {
      "cell_type": "code",
      "source": [
        "def binary_search(sorted_list, target):\n",
        "    left, right = 0, len(sorted_list) - 1\n",
        "\n",
        "    while left <= right:\n",
        "        mid = (left + right) // 2\n",
        "\n",
        "        if sorted_list[mid] == target:\n",
        "            return mid  # Element found, return its index\n",
        "        elif sorted_list[mid] < target:\n",
        "            left = mid + 1  # Adjust the left boundary\n",
        "        else:\n",
        "            right = mid - 1  # Adjust the right boundary\n",
        "\n",
        "    return -1  # Element not found in the list\n",
        "\n",
        "# Test case\n",
        "sorted_list = [1, 3, 5, 7, 9, 11, 13, 15]\n",
        "target = 7\n",
        "index = binary_search(sorted_list, target)\n",
        "\n",
        "if index != -1:\n",
        "    print(f\"Element {target} found at index {index}.\")\n",
        "else:\n",
        "    print(f\"Element {target} not found in the list.\")\n"
      ],
      "metadata": {
        "id": "QgUfucCjx7B1",
        "outputId": "822cf77d-0ef3-4c86-8496-1a027fb95534",
        "colab": {
          "base_uri": "https://localhost:8080/"
        }
      },
      "id": "QgUfucCjx7B1",
      "execution_count": 6,
      "outputs": [
        {
          "output_type": "stream",
          "name": "stdout",
          "text": [
            "Element 7 found at index 3.\n"
          ]
        }
      ]
    }
  ],
  "metadata": {
    "kernelspec": {
      "display_name": "Python 3 (ipykernel)",
      "language": "python",
      "name": "python3"
    },
    "language_info": {
      "codemirror_mode": {
        "name": "ipython",
        "version": 3
      },
      "file_extension": ".py",
      "mimetype": "text/x-python",
      "name": "python",
      "nbconvert_exporter": "python",
      "pygments_lexer": "ipython3",
      "version": "3.9.12"
    },
    "colab": {
      "provenance": [],
      "include_colab_link": true
    }
  },
  "nbformat": 4,
  "nbformat_minor": 5
}