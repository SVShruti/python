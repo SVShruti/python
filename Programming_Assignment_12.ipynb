{
  "cells": [
    {
      "cell_type": "markdown",
      "metadata": {
        "id": "view-in-github",
        "colab_type": "text"
      },
      "source": [
        "<a href=\"https://colab.research.google.com/github/SVShruti/python/blob/main/Programming_Assignment_12.ipynb\" target=\"_parent\"><img src=\"https://colab.research.google.com/assets/colab-badge.svg\" alt=\"Open In Colab\"/></a>"
      ]
    },
    {
      "cell_type": "markdown",
      "id": "b7231b20",
      "metadata": {
        "id": "b7231b20"
      },
      "source": [
        "# Python Basic Programming Assignment 12\n",
        "-------------"
      ]
    },
    {
      "cell_type": "markdown",
      "id": "d2ec324d",
      "metadata": {
        "id": "d2ec324d"
      },
      "source": [
        "### 1. Write a Python program to Extract Unique values dictionary values?"
      ]
    },
    {
      "cell_type": "code",
      "source": [
        "# Input a dictionary\n",
        "input_dict = {\n",
        "    'a': 1,\n",
        "    'b': 2,\n",
        "    'c': 1,\n",
        "    'd': 3,\n",
        "    'e': 2\n",
        "}\n",
        "\n",
        "# Extract unique values from dictionary values\n",
        "unique_values = list(set(input_dict.values()))\n",
        "\n",
        "# Display the unique values\n",
        "print(\"Unique values from dictionary values:\", unique_values)\n"
      ],
      "metadata": {
        "id": "8zEouikdDpWa",
        "outputId": "d6f365cb-c2c8-445f-aa87-0acd4009ddc6",
        "colab": {
          "base_uri": "https://localhost:8080/"
        }
      },
      "id": "8zEouikdDpWa",
      "execution_count": 1,
      "outputs": [
        {
          "output_type": "stream",
          "name": "stdout",
          "text": [
            "Unique values from dictionary values: [1, 2, 3]\n"
          ]
        }
      ]
    },
    {
      "cell_type": "markdown",
      "id": "203bcbc3",
      "metadata": {
        "id": "203bcbc3"
      },
      "source": [
        "### 2. Write a Python program to find the sum of all items in a dictionary?"
      ]
    },
    {
      "cell_type": "code",
      "source": [
        "# Input a dictionary with numeric values\n",
        "input_dict = {\n",
        "    'a': 10,\n",
        "    'b': 20,\n",
        "    'c': 30,\n",
        "    'd': 40,\n",
        "    'e': 50\n",
        "}\n",
        "\n",
        "# Initialize a variable to store the sum\n",
        "sum_of_values = 0\n",
        "\n",
        "# Iterate through the values and calculate the sum\n",
        "for value in input_dict.values():\n",
        "    sum_of_values += value\n",
        "\n",
        "# Display the sum of values\n",
        "print(\"Sum of all items in the dictionary:\", sum_of_values)\n"
      ],
      "metadata": {
        "id": "7HRMU4TPD0G_",
        "outputId": "7c65cfa4-63d8-4290-c5b8-f5baabe54025",
        "colab": {
          "base_uri": "https://localhost:8080/"
        }
      },
      "id": "7HRMU4TPD0G_",
      "execution_count": 2,
      "outputs": [
        {
          "output_type": "stream",
          "name": "stdout",
          "text": [
            "Sum of all items in the dictionary: 150\n"
          ]
        }
      ]
    },
    {
      "cell_type": "markdown",
      "id": "edfbc682",
      "metadata": {
        "id": "edfbc682"
      },
      "source": [
        "### 3. Write a Python program to Merging two Dictionaries?"
      ]
    },
    {
      "cell_type": "code",
      "source": [
        "# Input two dictionaries\n",
        "dict1 = {'a': 1, 'b': 2}\n",
        "dict2 = {'b': 3, 'c': 4}\n",
        "\n",
        "# Merge dict2 into dict1 using the update() method\n",
        "dict1.update(dict2)\n",
        "\n",
        "# Display the merged dictionary\n",
        "print(\"Merged dictionary using update():\", dict1)\n"
      ],
      "metadata": {
        "id": "2ZU7rYrzD6lI",
        "outputId": "27b48c58-5296-495b-e4c6-4559472eeb95",
        "colab": {
          "base_uri": "https://localhost:8080/"
        }
      },
      "id": "2ZU7rYrzD6lI",
      "execution_count": 3,
      "outputs": [
        {
          "output_type": "stream",
          "name": "stdout",
          "text": [
            "Merged dictionary using update(): {'a': 1, 'b': 3, 'c': 4}\n"
          ]
        }
      ]
    },
    {
      "cell_type": "markdown",
      "id": "62eaf687",
      "metadata": {
        "id": "62eaf687"
      },
      "source": [
        "### 4. Write a Python program to convert key-values list to flat dictionary?"
      ]
    },
    {
      "cell_type": "code",
      "source": [
        "# Input a list of key-value pairs\n",
        "key_value_list = [('a', 1), ('b', 2), ('c', 3)]\n",
        "\n",
        "# Initialize an empty dictionary\n",
        "flat_dict = {}\n",
        "\n",
        "# Convert the list to a flat dictionary\n",
        "for key, value in key_value_list:\n",
        "    flat_dict[key] = value\n",
        "\n",
        "# Display the flat dictionary\n",
        "print(\"Flat dictionary:\", flat_dict)\n"
      ],
      "metadata": {
        "id": "aFCOeC-7D_-4",
        "outputId": "aab09f6a-6017-4966-959b-f436a7ab0a85",
        "colab": {
          "base_uri": "https://localhost:8080/"
        }
      },
      "id": "aFCOeC-7D_-4",
      "execution_count": 4,
      "outputs": [
        {
          "output_type": "stream",
          "name": "stdout",
          "text": [
            "Flat dictionary: {'a': 1, 'b': 2, 'c': 3}\n"
          ]
        }
      ]
    },
    {
      "cell_type": "markdown",
      "id": "fcc5015f",
      "metadata": {
        "id": "fcc5015f"
      },
      "source": [
        "### 5. Write a Python program to insertion at the beginning in OrderedDict?"
      ]
    },
    {
      "cell_type": "code",
      "source": [
        "from collections import OrderedDict\n",
        "\n",
        "# Create an OrderedDict\n",
        "ordered_dict = OrderedDict([('a', 1), ('b', 2), ('c', 3)])\n",
        "\n",
        "# Display the initial OrderedDict\n",
        "print(\"Initial OrderedDict:\", ordered_dict)\n",
        "\n",
        "# Insert an item at the beginning\n",
        "ordered_dict['x'] = 0\n",
        "\n",
        "# Move the newly inserted item to the beginning\n",
        "ordered_dict.move_to_end('x', last=False)\n",
        "\n",
        "# Display the OrderedDict after insertion at the beginning\n",
        "print(\"OrderedDict after insertion at the beginning:\", ordered_dict)\n"
      ],
      "metadata": {
        "id": "AlSD4yK9EKEg",
        "outputId": "0d1fbc8b-404e-4066-f610-3ce4ddf63f3b",
        "colab": {
          "base_uri": "https://localhost:8080/"
        }
      },
      "id": "AlSD4yK9EKEg",
      "execution_count": 5,
      "outputs": [
        {
          "output_type": "stream",
          "name": "stdout",
          "text": [
            "Initial OrderedDict: OrderedDict([('a', 1), ('b', 2), ('c', 3)])\n",
            "OrderedDict after insertion at the beginning: OrderedDict([('x', 0), ('a', 1), ('b', 2), ('c', 3)])\n"
          ]
        }
      ]
    },
    {
      "cell_type": "markdown",
      "id": "5978c9ab",
      "metadata": {
        "id": "5978c9ab"
      },
      "source": [
        "### 6. Write a Python program to check order of character in string using OrderedDict()?"
      ]
    },
    {
      "cell_type": "code",
      "source": [
        "from collections import OrderedDict\n",
        "\n",
        "# Function to check the order of characters in a string\n",
        "def check_order(input_string, pattern):\n",
        "    # Create an OrderedDict to store character positions\n",
        "    char_positions = OrderedDict()\n",
        "\n",
        "    # Initialize a position variable\n",
        "    position = 0\n",
        "\n",
        "    # Iterate through the input string\n",
        "    for char in input_string:\n",
        "        char_positions[char] = char_positions.get(char, position)\n",
        "        position += 1\n",
        "\n",
        "    # Initialize a variable to track the expected position\n",
        "    expected_position = 0\n",
        "\n",
        "    # Iterate through the pattern\n",
        "    for char in pattern:\n",
        "        if char in char_positions and char_positions[char] >= expected_position:\n",
        "            expected_position = char_positions[char] + 1\n",
        "        else:\n",
        "            return False\n",
        "\n",
        "    return True\n",
        "\n",
        "# Input a string and a pattern to check\n",
        "input_string = input(\"Enter a string: \")\n",
        "pattern = input(\"Enter a pattern to check: \")\n",
        "\n",
        "# Check the order of characters in the string\n",
        "if check_order(input_string, pattern):\n",
        "    print(f\"The pattern '{pattern}' is in the correct order in the string '{input_string}'.\")\n",
        "else:\n",
        "    print(f\"The pattern '{pattern}' is not in the correct order in the string '{input_string}'.\")\n"
      ],
      "metadata": {
        "id": "zW-86IJZET-V",
        "outputId": "9798fe5a-84f2-49c5-e9ac-a7b2b219b183",
        "colab": {
          "base_uri": "https://localhost:8080/"
        }
      },
      "id": "zW-86IJZET-V",
      "execution_count": 6,
      "outputs": [
        {
          "output_type": "stream",
          "name": "stdout",
          "text": [
            "Enter a string: mathematics is fun\n",
            "Enter a pattern to check: math\n",
            "The pattern 'math' is in the correct order in the string 'mathematics is fun'.\n"
          ]
        }
      ]
    },
    {
      "cell_type": "markdown",
      "id": "f330da77",
      "metadata": {
        "id": "f330da77"
      },
      "source": [
        "### 7. Write a Python program to sort Python Dictionaries by Key or Value?"
      ]
    },
    {
      "cell_type": "code",
      "source": [
        "# Input a dictionary\n",
        "input_dict = {'c': 3, 'a': 1, 'b': 2}\n",
        "\n",
        "# Sort the dictionary by keys and store it in a new dictionary\n",
        "sorted_dict_by_key = dict(sorted(input_dict.items()))\n",
        "\n",
        "# Display the dictionary sorted by keys\n",
        "print(\"Dictionary sorted by keys:\", sorted_dict_by_key)\n",
        "\n",
        "# Sort the dictionary by values and store it in a new dictionary\n",
        "sorted_dict_by_value = dict(sorted(input_dict.items(), key=lambda item: item[1]))\n",
        "\n",
        "# Display the dictionary sorted by values\n",
        "print(\"Dictionary sorted by values:\", sorted_dict_by_value)\n"
      ],
      "metadata": {
        "id": "lUXJOACNEvBB",
        "outputId": "956c2d6b-a223-4633-c473-c8d6c06b3be7",
        "colab": {
          "base_uri": "https://localhost:8080/"
        }
      },
      "id": "lUXJOACNEvBB",
      "execution_count": 7,
      "outputs": [
        {
          "output_type": "stream",
          "name": "stdout",
          "text": [
            "Dictionary sorted by keys: {'a': 1, 'b': 2, 'c': 3}\n",
            "Dictionary sorted by values: {'a': 1, 'b': 2, 'c': 3}\n"
          ]
        }
      ]
    }
  ],
  "metadata": {
    "kernelspec": {
      "display_name": "Python 3 (ipykernel)",
      "language": "python",
      "name": "python3"
    },
    "language_info": {
      "codemirror_mode": {
        "name": "ipython",
        "version": 3
      },
      "file_extension": ".py",
      "mimetype": "text/x-python",
      "name": "python",
      "nbconvert_exporter": "python",
      "pygments_lexer": "ipython3",
      "version": "3.9.12"
    },
    "colab": {
      "provenance": [],
      "include_colab_link": true
    }
  },
  "nbformat": 4,
  "nbformat_minor": 5
}