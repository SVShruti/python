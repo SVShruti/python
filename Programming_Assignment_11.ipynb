{
  "cells": [
    {
      "cell_type": "markdown",
      "metadata": {
        "id": "view-in-github",
        "colab_type": "text"
      },
      "source": [
        "<a href=\"https://colab.research.google.com/github/SVShruti/python/blob/main/Programming_Assignment_11.ipynb\" target=\"_parent\"><img src=\"https://colab.research.google.com/assets/colab-badge.svg\" alt=\"Open In Colab\"/></a>"
      ]
    },
    {
      "cell_type": "markdown",
      "id": "53c7e882",
      "metadata": {
        "id": "53c7e882"
      },
      "source": [
        "# Python Basic Programming Assignment 11\n",
        "--------------------"
      ]
    },
    {
      "cell_type": "markdown",
      "id": "051da140",
      "metadata": {
        "id": "051da140"
      },
      "source": [
        "### 1. Write a Python program to find words which are greater than given length k?"
      ]
    },
    {
      "cell_type": "code",
      "source": [
        "# Input a list of words separated by spaces\n",
        "word_list = input(\"Enter a list of words separated by spaces: \").split()\n",
        "\n",
        "# Input the minimum length 'k'\n",
        "k = int(input(\"Enter the minimum length 'k': \"))\n",
        "\n",
        "# Use a list comprehension to find words greater than length 'k'\n",
        "long_words = [word for word in word_list if len(word) > k]\n",
        "\n",
        "# Display the words greater than length 'k'\n",
        "print(f\"Words greater than length {k}:\")\n",
        "for word in long_words:\n",
        "    print(word)\n"
      ],
      "metadata": {
        "id": "G8sP_7IB8HeZ",
        "outputId": "77a7568c-c728-4332-fcf2-f4fb7affcf78",
        "colab": {
          "base_uri": "https://localhost:8080/"
        }
      },
      "id": "G8sP_7IB8HeZ",
      "execution_count": 1,
      "outputs": [
        {
          "output_type": "stream",
          "name": "stdout",
          "text": [
            "Enter a list of words separated by spaces: cat dog apple sheila\n",
            "Enter the minimum length 'k': 4\n",
            "Words greater than length 4:\n",
            "apple\n",
            "sheila\n"
          ]
        }
      ]
    },
    {
      "cell_type": "markdown",
      "id": "26719cbd",
      "metadata": {
        "id": "26719cbd"
      },
      "source": [
        "### 2. Write a Python program for removing i-th character from a string?"
      ]
    },
    {
      "cell_type": "code",
      "source": [
        "# Input a string\n",
        "input_string = input(\"Enter a string: \")\n",
        "\n",
        "# Input the index (i) of the character to remove\n",
        "i = int(input(\"Enter the index (i) of the character to remove: \"))\n",
        "\n",
        "# Check if the index is valid\n",
        "if i < 0 or i >= len(input_string):\n",
        "    print(\"Invalid index. Please enter a valid index within the string length.\")\n",
        "else:\n",
        "    # Remove the i-th character by slicing\n",
        "    new_string = input_string[:i] + input_string[i+1:]\n",
        "\n",
        "    # Display the string after removing the i-th character\n",
        "    print(\"String after removing the i-th character:\", new_string)\n"
      ],
      "metadata": {
        "id": "xsIESgZr-YHh",
        "outputId": "f15a4411-cbab-4fc4-c6e4-12c0e0dbbb7f",
        "colab": {
          "base_uri": "https://localhost:8080/"
        }
      },
      "id": "xsIESgZr-YHh",
      "execution_count": 2,
      "outputs": [
        {
          "output_type": "stream",
          "name": "stdout",
          "text": [
            "Enter a string:  when harry met sally\n",
            "Enter the index (i) of the character to remove: 8\n",
            "String after removing the i-th character:  when hary met sally\n"
          ]
        }
      ]
    },
    {
      "cell_type": "markdown",
      "id": "51ae6b0f",
      "metadata": {
        "id": "51ae6b0f"
      },
      "source": [
        "### 3. Write a Python program to split and join a string?"
      ]
    },
    {
      "cell_type": "code",
      "source": [
        "# Input a string\n",
        "input_string = input(\"Enter a string: \")\n",
        "\n",
        "# Split the string into a list of words\n",
        "words = input_string.split()\n",
        "\n",
        "# Join the list of words back into a single string with a space as the separator\n",
        "joined_string = ' '.join(words)\n",
        "\n",
        "# Display the original string, the list of words, and the joined string\n",
        "print(\"Original string:\", input_string)\n",
        "print(\"List of words:\", words)\n",
        "print(\"Joined string:\", joined_string)\n"
      ],
      "metadata": {
        "id": "Yg_wa12j-zNo",
        "outputId": "1380cf46-894a-41ff-e1ee-7ca5f5769ab9",
        "colab": {
          "base_uri": "https://localhost:8080/"
        }
      },
      "id": "Yg_wa12j-zNo",
      "execution_count": 3,
      "outputs": [
        {
          "output_type": "stream",
          "name": "stdout",
          "text": [
            "Enter a string: when love came calling\n",
            "Original string: when love came calling\n",
            "List of words: ['when', 'love', 'came', 'calling']\n",
            "Joined string: when love came calling\n"
          ]
        }
      ]
    },
    {
      "cell_type": "markdown",
      "id": "59079fe1",
      "metadata": {
        "id": "59079fe1"
      },
      "source": [
        "### 4. Write a Python to check if a given string is binary string or not?"
      ]
    },
    {
      "cell_type": "code",
      "source": [
        "# Input a string\n",
        "input_string = input(\"Enter a string: \")\n",
        "\n",
        "# Function to check if a string is a binary string\n",
        "def is_binary_string(string):\n",
        "    for char in string:\n",
        "        if char not in ('0', '1'):\n",
        "            return False\n",
        "    return True\n",
        "\n",
        "# Check if the input string is a binary string\n",
        "if is_binary_string(input_string):\n",
        "    print(\"The input string is a binary string.\")\n",
        "else:\n",
        "    print(\"The input string is not a binary string.\")\n"
      ],
      "metadata": {
        "id": "FrWEbuD0_J2g",
        "outputId": "a225b02e-557c-441f-af23-3655066f511a",
        "colab": {
          "base_uri": "https://localhost:8080/"
        }
      },
      "id": "FrWEbuD0_J2g",
      "execution_count": 5,
      "outputs": [
        {
          "output_type": "stream",
          "name": "stdout",
          "text": [
            "Enter a string:  Jack Sparrow had a colourful personality\n",
            "The input string is not a binary string.\n"
          ]
        }
      ]
    },
    {
      "cell_type": "markdown",
      "id": "4d6cf11a",
      "metadata": {
        "id": "4d6cf11a"
      },
      "source": [
        "### 5. Write a Python program to find uncommon words from two Strings?"
      ]
    },
    {
      "cell_type": "code",
      "source": [
        "# Input two strings\n",
        "string1 = input(\"Enter the first string: \")\n",
        "string2 = input(\"Enter the second string: \")\n",
        "\n",
        "# Split the strings into words\n",
        "words1 = string1.split()\n",
        "words2 = string2.split()\n",
        "\n",
        "# Create sets of words\n",
        "set1 = set(words1)\n",
        "set2 = set(words2)\n",
        "\n",
        "# Find uncommon words in both sets\n",
        "uncommon_words = set1.symmetric_difference(set2)\n",
        "\n",
        "# Display the uncommon words\n",
        "print(\"Uncommon words between the two strings:\")\n",
        "for word in uncommon_words:\n",
        "    print(word)\n"
      ],
      "metadata": {
        "id": "OAdI8KkmBIhY",
        "outputId": "14110efa-197f-4c40-e6e7-c61b875fc74e",
        "colab": {
          "base_uri": "https://localhost:8080/"
        }
      },
      "id": "OAdI8KkmBIhY",
      "execution_count": 6,
      "outputs": [
        {
          "output_type": "stream",
          "name": "stdout",
          "text": [
            "Enter the first string: this is tough nut to crack\n",
            "Enter the second string: can you do this for me?\n",
            "Uncommon words between the two strings:\n",
            "for\n",
            "do\n",
            "nut\n",
            "me?\n",
            "tough\n",
            "is\n",
            "crack\n",
            "can\n",
            "to\n",
            "you\n"
          ]
        }
      ]
    },
    {
      "cell_type": "markdown",
      "id": "e2b24677",
      "metadata": {
        "id": "e2b24677"
      },
      "source": [
        "### 6. Write a Python to find all duplicate characters in string?"
      ]
    },
    {
      "cell_type": "code",
      "source": [
        "# Input a string\n",
        "input_string = input(\"Enter a string: \")\n",
        "\n",
        "# Initialize an empty dictionary to store character counts\n",
        "char_count = {}\n",
        "\n",
        "# Iterate through the string and count character occurrences\n",
        "for char in input_string:\n",
        "    if char in char_count:\n",
        "        char_count[char] += 1\n",
        "    else:\n",
        "        char_count[char] = 1\n",
        "\n",
        "# Find and display duplicate characters\n",
        "print(\"Duplicate characters in the string:\")\n",
        "for char, count in char_count.items():\n",
        "    if count > 1:\n",
        "        print(char)\n"
      ],
      "metadata": {
        "id": "hsvLbKmgC4E4",
        "outputId": "7ff6ba10-5041-44a4-c9a5-3d9d3cfd8cd0",
        "colab": {
          "base_uri": "https://localhost:8080/"
        }
      },
      "id": "hsvLbKmgC4E4",
      "execution_count": 8,
      "outputs": [
        {
          "output_type": "stream",
          "name": "stdout",
          "text": [
            "Enter a string: This is the book taht she gave to me .\n",
            "Duplicate characters in the string:\n",
            "h\n",
            "i\n",
            "s\n",
            " \n",
            "t\n",
            "e\n",
            "o\n",
            "a\n"
          ]
        }
      ]
    },
    {
      "cell_type": "markdown",
      "id": "1a6af7e4",
      "metadata": {
        "id": "1a6af7e4"
      },
      "source": [
        "### 7. Write a Python Program to check if a string contains any special character?"
      ]
    },
    {
      "cell_type": "code",
      "source": [
        "import re\n",
        "\n",
        "# Input a string\n",
        "input_string = input(\"Enter a string: \")\n",
        "\n",
        "# Define a regular expression pattern to match special characters\n",
        "special_char_pattern = re.compile(r'[^a-zA-Z0-9\\s]')\n",
        "\n",
        "# Use the findall() method to find all special characters in the string\n",
        "special_characters = special_char_pattern.findall(input_string)\n",
        "\n",
        "# Check if special characters were found\n",
        "if special_characters:\n",
        "    print(\"The string contains special characters:\", special_characters)\n",
        "else:\n",
        "    print(\"The string does not contain any special characters.\")\n"
      ],
      "metadata": {
        "id": "0Q7b-cx4DKHm",
        "outputId": "6a307dd6-7a71-480f-fcfd-e17ae3b4cb00",
        "colab": {
          "base_uri": "https://localhost:8080/"
        }
      },
      "id": "0Q7b-cx4DKHm",
      "execution_count": 9,
      "outputs": [
        {
          "output_type": "stream",
          "name": "stdout",
          "text": [
            "Enter a string: Wow! She is so beuatiful. Isn't she?\n",
            "The string contains special characters: ['!', '.', \"'\", '?']\n"
          ]
        }
      ]
    }
  ],
  "metadata": {
    "kernelspec": {
      "display_name": "Python 3 (ipykernel)",
      "language": "python",
      "name": "python3"
    },
    "language_info": {
      "codemirror_mode": {
        "name": "ipython",
        "version": 3
      },
      "file_extension": ".py",
      "mimetype": "text/x-python",
      "name": "python",
      "nbconvert_exporter": "python",
      "pygments_lexer": "ipython3",
      "version": "3.9.12"
    },
    "colab": {
      "provenance": [],
      "include_colab_link": true
    }
  },
  "nbformat": 4,
  "nbformat_minor": 5
}