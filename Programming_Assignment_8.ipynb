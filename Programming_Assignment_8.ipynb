{
  "cells": [
    {
      "cell_type": "markdown",
      "metadata": {
        "id": "view-in-github",
        "colab_type": "text"
      },
      "source": [
        "<a href=\"https://colab.research.google.com/github/SVShruti/python/blob/main/Programming_Assignment_8.ipynb\" target=\"_parent\"><img src=\"https://colab.research.google.com/assets/colab-badge.svg\" alt=\"Open In Colab\"/></a>"
      ]
    },
    {
      "cell_type": "markdown",
      "id": "9b304197",
      "metadata": {
        "id": "9b304197"
      },
      "source": [
        "# Python Basic Programming Assignment 8"
      ]
    },
    {
      "cell_type": "markdown",
      "id": "22789ae6",
      "metadata": {
        "id": "22789ae6"
      },
      "source": [
        "### 1. Write a Python Program to Add Two Matrices?"
      ]
    },
    {
      "cell_type": "code",
      "source": [
        "# Function to add two matrices\n",
        "def add_matrices(mat1, mat2):\n",
        "    # Check if matrices have the same dimensions\n",
        "    if len(mat1) != len(mat2) or len(mat1[0]) != len(mat2[0]):\n",
        "        return None\n",
        "\n",
        "    result = []\n",
        "    for i in range(len(mat1)):\n",
        "        row = []\n",
        "        for j in range(len(mat1[0])):\n",
        "            row.append(mat1[i][j] + mat2[i][j])\n",
        "        result.append(row)\n",
        "    return result\n",
        "\n",
        "# Input the dimensions of the matrices\n",
        "rows = int(input(\"Enter the number of rows: \"))\n",
        "cols = int(input(\"Enter the number of columns: \"))\n",
        "\n",
        "# Input the elements of the first matrix\n",
        "print(\"Enter elements of the first matrix:\")\n",
        "matrix1 = []\n",
        "for i in range(rows):\n",
        "    row = []\n",
        "    for j in range(cols):\n",
        "        element = float(input(f\"Enter element at row {i+1}, column {j+1}: \"))\n",
        "        row.append(element)\n",
        "    matrix1.append(row)\n",
        "\n",
        "# Input the elements of the second matrix\n",
        "print(\"Enter elements of the second matrix:\")\n",
        "matrix2 = []\n",
        "for i in range(rows):\n",
        "    row = []\n",
        "    for j in range(cols):\n",
        "        element = float(input(f\"Enter element at row {i+1}, column {j+1}: \"))\n",
        "        row.append(element)\n",
        "    matrix2.append(row)\n",
        "\n",
        "# Add the matrices\n",
        "result_matrix = add_matrices(matrix1, matrix2)\n",
        "\n",
        "# Display the result\n",
        "if result_matrix is None:\n",
        "    print(\"Matrices cannot be added. They have different dimensions.\")\n",
        "else:\n",
        "    print(\"Resultant matrix after addition:\")\n",
        "    for row in result_matrix:\n",
        "        print(row)\n"
      ],
      "metadata": {
        "id": "EhcvK0FgS1Hq",
        "outputId": "ea0d83fc-1b8e-4aad-a210-044055c07fa6",
        "colab": {
          "base_uri": "https://localhost:8080/"
        }
      },
      "id": "EhcvK0FgS1Hq",
      "execution_count": 3,
      "outputs": [
        {
          "output_type": "stream",
          "name": "stdout",
          "text": [
            "Enter the number of rows: 2\n",
            "Enter the number of columns: 2\n",
            "Enter elements of the first matrix:\n",
            "Enter element at row 1, column 1: 8\n",
            "Enter element at row 1, column 2: 2\n",
            "Enter element at row 2, column 1: 3\n",
            "Enter element at row 2, column 2: 7\n",
            "Enter elements of the second matrix:\n",
            "Enter element at row 1, column 1: 1\n",
            "Enter element at row 1, column 2: 2\n",
            "Enter element at row 2, column 1: 8\n",
            "Enter element at row 2, column 2: 9\n",
            "Resultant matrix after addition:\n",
            "[9.0, 4.0]\n",
            "[11.0, 16.0]\n"
          ]
        }
      ]
    },
    {
      "cell_type": "markdown",
      "id": "044ceda6",
      "metadata": {
        "id": "044ceda6"
      },
      "source": [
        "### 2. Write a Python Program to Multiply Two Matrices?"
      ]
    },
    {
      "cell_type": "code",
      "source": [
        "def multiply_matrices(mat1, mat2):\n",
        "    # Check if matrices can be multiplied\n",
        "    if len(mat1[0]) != len(mat2):\n",
        "        return None\n",
        "\n",
        "    result = [[0 for _ in range(len(mat2[0]))] for _ in range(len(mat1))]\n",
        "\n",
        "    for i in range(len(mat1)):\n",
        "        for j in range(len(mat2[0])):\n",
        "            for k in range(len(mat2)):\n",
        "                result[i][j] += mat1[i][k] * mat2[k][j]\n",
        "\n",
        "    return result\n",
        "\n",
        "# Input the dimensions of the matrices\n",
        "rows1 = int(input(\"Enter the number of rows for the first matrix: \"))\n",
        "cols1 = int(input(\"Enter the number of columns for the first matrix: \"))\n",
        "rows2 = int(input(\"Enter the number of rows for the second matrix: \"))\n",
        "cols2 = int(input(\"Enter the number of columns for the second matrix: \"))\n",
        "\n",
        "# Check if matrices can be multiplied\n",
        "if cols1 != rows2:\n",
        "    print(\"Matrices cannot be multiplied. Number of columns in the first matrix must be equal to the number of rows in the second matrix.\")\n",
        "else:\n",
        "    # Input elements of the first matrix\n",
        "    print(\"Enter elements of the first matrix:\")\n",
        "    matrix1 = []\n",
        "    for i in range(rows1):\n",
        "        row = []\n",
        "        for j in range(cols1):\n",
        "            element = float(input(f\"Enter element at row {i + 1}, column {j + 1}: \"))\n",
        "            row.append(element)\n",
        "        matrix1.append(row)\n",
        "\n",
        "    # Input elements of the second matrix\n",
        "    print(\"Enter elements of the second matrix:\")\n",
        "    matrix2 = []\n",
        "    for i in range(rows2):\n",
        "        row = []\n",
        "        for j in range(cols2):\n",
        "            element = float(input(f\"Enter element at row {i + 1}, column {j + 1}: \"))\n",
        "            row.append(element)\n",
        "        matrix2.append(row)\n",
        "\n",
        "    # Multiply the matrices\n",
        "    result_matrix = multiply_matrices(matrix1, matrix2)\n",
        "\n",
        "    # Display the result\n",
        "    if result_matrix is None:\n",
        "        print(\"Matrices cannot be multiplied. Number of columns in the first matrix must be equal to the number of rows in the second matrix.\")\n",
        "    else:\n",
        "        print(\"Resultant matrix after multiplication:\")\n",
        "        for row in result_matrix:\n",
        "            print(row)\n"
      ],
      "metadata": {
        "id": "gen3e986ot7T",
        "outputId": "33fe954a-f800-46af-97b6-5f714257e15f",
        "colab": {
          "base_uri": "https://localhost:8080/"
        }
      },
      "id": "gen3e986ot7T",
      "execution_count": 10,
      "outputs": [
        {
          "output_type": "stream",
          "name": "stdout",
          "text": [
            "Enter the number of rows for the first matrix: 2\n",
            "Enter the number of columns for the first matrix: 2\n",
            "Enter the number of rows for the second matrix: 1\n",
            "Enter the number of columns for the second matrix: 3\n",
            "Matrices cannot be multiplied. Number of columns in the first matrix must be equal to the number of rows in the second matrix.\n"
          ]
        }
      ]
    },
    {
      "cell_type": "markdown",
      "id": "5f688e46",
      "metadata": {
        "id": "5f688e46"
      },
      "source": [
        "### 3. Write a Python Program to Transpose a Matrix?"
      ]
    },
    {
      "cell_type": "code",
      "source": [
        "# Input the matrix\n",
        "matrix = []\n",
        "rows = int(input(\"Enter the number of rows: \"))\n",
        "cols = int(input(\"Enter the number of columns: \"))\n",
        "\n",
        "print(\"Enter the elements of the matrix:\")\n",
        "for i in range(rows):\n",
        "    row = []\n",
        "    for j in range(cols):\n",
        "        element = float(input(f\"Enter element at row {i + 1}, column {j + 1}: \"))\n",
        "        row.append(element)\n",
        "    matrix.append(row)\n",
        "\n",
        "# Transpose the matrix\n",
        "transpose = [[matrix[j][i] for j in range(rows)] for i in range(cols)]\n",
        "\n",
        "# Display the transposed matrix\n",
        "print(\"Transposed matrix:\")\n",
        "for row in transpose:\n",
        "    print(row)\n"
      ],
      "metadata": {
        "id": "KuwDh-BkmYf3",
        "outputId": "f6c51e2e-42fc-4235-b00a-141cbd0cec94",
        "colab": {
          "base_uri": "https://localhost:8080/"
        }
      },
      "id": "KuwDh-BkmYf3",
      "execution_count": 4,
      "outputs": [
        {
          "output_type": "stream",
          "name": "stdout",
          "text": [
            "Enter the number of rows: 2\n",
            "Enter the number of columns: 3\n",
            "Enter the elements of the matrix:\n",
            "Enter element at row 1, column 1: 1\n",
            "Enter element at row 1, column 2: 5\n",
            "Enter element at row 1, column 3: 9\n",
            "Enter element at row 2, column 1: 7\n",
            "Enter element at row 2, column 2: 5\n",
            "Enter element at row 2, column 3: 3\n",
            "Transposed matrix:\n",
            "[1.0, 7.0]\n",
            "[5.0, 5.0]\n",
            "[9.0, 3.0]\n"
          ]
        }
      ]
    },
    {
      "cell_type": "markdown",
      "id": "b2849025",
      "metadata": {
        "id": "b2849025"
      },
      "source": [
        "\n",
        "### 4. Write a Python Program to Sort Words in Alphabetic Order?\n"
      ]
    },
    {
      "cell_type": "code",
      "source": [
        "# Input a string of words\n",
        "input_string = input(\"Enter a string of words: \")\n",
        "\n",
        "# Split the input string into words\n",
        "words = input_string.split()\n",
        "\n",
        "# Sort the words in alphabetical order\n",
        "sorted_words = sorted(words)\n",
        "\n",
        "# Display the sorted words\n",
        "print(\"Words sorted in alphabetical order:\")\n",
        "for word in sorted_words:\n",
        "    print(word)\n"
      ],
      "metadata": {
        "id": "nGXJjMrgmtZo",
        "outputId": "bf79b238-4244-4042-9271-31069b7eb775",
        "colab": {
          "base_uri": "https://localhost:8080/"
        }
      },
      "id": "nGXJjMrgmtZo",
      "execution_count": 7,
      "outputs": [
        {
          "output_type": "stream",
          "name": "stdout",
          "text": [
            "Enter a string of words: Scooby Dooby Doo\n",
            "Words sorted in alphabetical order:\n",
            "Doo\n",
            "Dooby\n",
            "Scooby\n"
          ]
        }
      ]
    },
    {
      "cell_type": "markdown",
      "id": "48ac7b24",
      "metadata": {
        "id": "48ac7b24"
      },
      "source": [
        "### 5. Write a Python Program to Remove Punctuation From a String?"
      ]
    },
    {
      "cell_type": "code",
      "source": [
        "# Input a string with punctuation\n",
        "input_string = input(\"Enter a string with punctuation: \")\n",
        "\n",
        "# Define a string of punctuation characters\n",
        "punctuation_chars = '''!()-[]{};:'\"\\,<>./?@#$%^&*_~'''\n",
        "\n",
        "# Initialize an empty string to store the result without punctuation\n",
        "result_string = \"\"\n",
        "\n",
        "# Remove punctuation characters from the input string\n",
        "for char in input_string:\n",
        "    if char not in punctuation_chars:\n",
        "        result_string += char\n",
        "\n",
        "# Display the string without punctuation\n",
        "print(\"String without punctuation:\")\n",
        "print(result_string)\n"
      ],
      "metadata": {
        "id": "CirjuYiinPN9",
        "outputId": "b9c52aea-45f6-4f19-c868-fb2dd9861862",
        "colab": {
          "base_uri": "https://localhost:8080/"
        }
      },
      "id": "CirjuYiinPN9",
      "execution_count": 15,
      "outputs": [
        {
          "output_type": "stream",
          "name": "stdout",
          "text": [
            "Enter a string with punctuation: Wow! These Google offices are so magnificent.\n",
            "String without punctuation:\n",
            "Wow These Google offices are so magnificent\n"
          ]
        }
      ]
    }
  ],
  "metadata": {
    "kernelspec": {
      "display_name": "Python 3 (ipykernel)",
      "language": "python",
      "name": "python3"
    },
    "language_info": {
      "codemirror_mode": {
        "name": "ipython",
        "version": 3
      },
      "file_extension": ".py",
      "mimetype": "text/x-python",
      "name": "python",
      "nbconvert_exporter": "python",
      "pygments_lexer": "ipython3",
      "version": "3.9.12"
    },
    "colab": {
      "provenance": [],
      "include_colab_link": true
    }
  },
  "nbformat": 4,
  "nbformat_minor": 5
}