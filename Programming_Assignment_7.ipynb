{
  "cells": [
    {
      "cell_type": "markdown",
      "metadata": {
        "id": "view-in-github",
        "colab_type": "text"
      },
      "source": [
        "<a href=\"https://colab.research.google.com/github/SVShruti/python/blob/main/Programming_Assignment_7.ipynb\" target=\"_parent\"><img src=\"https://colab.research.google.com/assets/colab-badge.svg\" alt=\"Open In Colab\"/></a>"
      ]
    },
    {
      "cell_type": "markdown",
      "id": "35297a20",
      "metadata": {
        "id": "35297a20"
      },
      "source": [
        "## Programming Basic Assignment 7"
      ]
    },
    {
      "cell_type": "markdown",
      "id": "27349114",
      "metadata": {
        "id": "27349114"
      },
      "source": [
        "### 1. Write a Python Program to find sum of array?"
      ]
    },
    {
      "cell_type": "code",
      "source": [
        "# Input the array (list) of numbers from the user\n",
        "input_str = input(\"Enter a list of numbers separated by spaces: \")\n",
        "\n",
        "# Convert the input string to a list of numbers\n",
        "numbers = [float(num) for num in input_str.split()]\n",
        "\n",
        "# Initialize the sum to 0\n",
        "sum_of_elements = 0\n",
        "\n",
        "# Calculate the sum of elements in the array\n",
        "for num in numbers:\n",
        "    sum_of_elements += num\n",
        "\n",
        "# Display the sum\n",
        "print(\"Sum of the elements in the array:\", sum_of_elements)\n",
        "\n"
      ],
      "metadata": {
        "id": "JlMliAvprV3F",
        "outputId": "aeaff5a9-da4b-4eb8-a57d-fa421ca4059e",
        "colab": {
          "base_uri": "https://localhost:8080/"
        }
      },
      "id": "JlMliAvprV3F",
      "execution_count": 1,
      "outputs": [
        {
          "output_type": "stream",
          "name": "stdout",
          "text": [
            "Enter a list of numbers separated by spaces: 96 65 47 85 81 18 45 63 81\n",
            "Sum of the elements in the array: 581.0\n"
          ]
        }
      ]
    },
    {
      "cell_type": "markdown",
      "id": "171a980d",
      "metadata": {
        "id": "171a980d"
      },
      "source": [
        "### 2. Write a Python Program to find largest element in an array?\n"
      ]
    },
    {
      "cell_type": "code",
      "source": [
        "# Input the array (list) of numbers from the user\n",
        "input_str = input(\"Enter a list of numbers separated by spaces: \")\n",
        "\n",
        "# Convert the input string to a list of numbers\n",
        "numbers = [float(num) for num in input_str.split()]\n",
        "\n",
        "# Check if the list is empty\n",
        "if not numbers:\n",
        "    print(\"The list is empty.\")\n",
        "else:\n",
        "    # Initialize the maximum to the first element of the list\n",
        "    max_element = numbers[0]\n",
        "\n",
        "    # Find the largest element in the array\n",
        "    for num in numbers:\n",
        "        if num > max_element:\n",
        "            max_element = num\n",
        "\n",
        "    # Display the largest element\n",
        "    print(\"The largest element in the array is:\", max_element)\n"
      ],
      "metadata": {
        "id": "Metks3Elrkvv",
        "outputId": "2d3b6811-eb5b-47d4-a5b6-4f2ccb7247cd",
        "colab": {
          "base_uri": "https://localhost:8080/"
        }
      },
      "id": "Metks3Elrkvv",
      "execution_count": 2,
      "outputs": [
        {
          "output_type": "stream",
          "name": "stdout",
          "text": [
            "Enter a list of numbers separated by spaces: 1 5 6 8 9 11 47\n",
            "The largest element in the array is: 47.0\n"
          ]
        }
      ]
    },
    {
      "cell_type": "markdown",
      "id": "21613246",
      "metadata": {
        "id": "21613246"
      },
      "source": [
        "### 3. Write a Python Program for array rotation?"
      ]
    },
    {
      "cell_type": "code",
      "source": [
        "def rotate_array_left(arr, positions):\n",
        "    length = len(arr)\n",
        "\n",
        "    # Calculate the effective number of positions to rotate\n",
        "    positions = positions % length\n",
        "\n",
        "    # Slice the array to perform the rotation\n",
        "    rotated_arr = arr[positions:] + arr[:positions]\n",
        "\n",
        "    return rotated_arr\n",
        "\n",
        "# Input the array from the user\n",
        "input_str = input(\"Enter the array elements separated by spaces: \")\n",
        "\n",
        "# Convert the input string to a list of integers\n",
        "arr = [int(num) for num in input_str.split()]\n",
        "\n",
        "# Input the number of positions to rotate\n",
        "positions = int(input(\"Enter the number of positions to rotate left: \"))\n",
        "\n",
        "# Rotate the array\n",
        "rotated = rotate_array_left(arr, positions)\n",
        "\n",
        "# Display the rotated array\n",
        "print(\"Rotated Array:\", rotated)\n"
      ],
      "metadata": {
        "id": "_hpuEUDQsAFU",
        "outputId": "b04d5251-5871-4b66-e17b-c086cf25d597",
        "colab": {
          "base_uri": "https://localhost:8080/"
        }
      },
      "id": "_hpuEUDQsAFU",
      "execution_count": 3,
      "outputs": [
        {
          "output_type": "stream",
          "name": "stdout",
          "text": [
            "Enter the array elements separated by spaces: 45 78 12 65 98 12 20 \n",
            "Enter the number of positions to rotate left: 3\n",
            "Rotated Array: [65, 98, 12, 20, 45, 78, 12]\n"
          ]
        }
      ]
    },
    {
      "cell_type": "markdown",
      "id": "3e52d939",
      "metadata": {
        "id": "3e52d939"
      },
      "source": [
        "### 4. Write a Python Program to Split the array and add the first part to the end?"
      ]
    },
    {
      "cell_type": "code",
      "source": [
        "# Input the array from the user\n",
        "input_str = input(\"Enter the array elements separated by spaces: \")\n",
        "\n",
        "# Convert the input string to a list of integers\n",
        "arr = [int(num) for num in input_str.split()]\n",
        "\n",
        "# Input the number of elements to split and move to the end\n",
        "split_count = int(input(\"Enter the number of elements to split and move to the end: \"))\n",
        "\n",
        "# Check if the split_count is valid\n",
        "if split_count < 0 or split_count > len(arr):\n",
        "    print(\"Invalid split count.\")\n",
        "else:\n",
        "    # Split the array and add the first part to the end\n",
        "    split_part = arr[:split_count]\n",
        "    remaining_part = arr[split_count:]\n",
        "    rotated_arr = remaining_part + split_part\n",
        "\n",
        "    # Display the rotated array\n",
        "    print(\"Rotated Array:\", rotated_arr)\n"
      ],
      "metadata": {
        "id": "cjqwry3CsPI-",
        "outputId": "37df7caf-dc40-4d9b-933d-bf9372994cfc",
        "colab": {
          "base_uri": "https://localhost:8080/"
        }
      },
      "id": "cjqwry3CsPI-",
      "execution_count": 4,
      "outputs": [
        {
          "output_type": "stream",
          "name": "stdout",
          "text": [
            "Enter the array elements separated by spaces: 14 15 16 18 17 19 24 25 262 8 29\n",
            "Enter the number of elements to split and move to the end: 5\n",
            "Rotated Array: [19, 24, 25, 262, 8, 29, 14, 15, 16, 18, 17]\n"
          ]
        }
      ]
    },
    {
      "cell_type": "markdown",
      "id": "aa375779",
      "metadata": {
        "id": "aa375779"
      },
      "source": [
        "### 5. Write a Python Program to check if given array is Monotonic?"
      ]
    },
    {
      "cell_type": "code",
      "source": [
        "def is_monotonic(arr):\n",
        "    increasing = decreasing = True\n",
        "\n",
        "    for i in range(1, len(arr)):\n",
        "        if arr[i] > arr[i - 1]:\n",
        "            decreasing = False\n",
        "        elif arr[i] < arr[i - 1]:\n",
        "            increasing = False\n",
        "\n",
        "    return increasing or decreasing\n",
        "\n",
        "# Input the array from the user\n",
        "input_str = input(\"Enter the array elements separated by spaces: \")\n",
        "\n",
        "# Convert the input string to a list of integers\n",
        "arr = [int(num) for num in input_str.split()]\n",
        "\n",
        "# Check if the array is monotonic\n",
        "if is_monotonic(arr):\n",
        "    print(\"The array is monotonic.\")\n",
        "else:\n",
        "    print(\"The array is not monotonic.\")\n"
      ],
      "metadata": {
        "id": "oOyltbCzsiP4",
        "outputId": "f7273cb9-e915-4020-89f0-f0057cee750d",
        "colab": {
          "base_uri": "https://localhost:8080/"
        }
      },
      "id": "oOyltbCzsiP4",
      "execution_count": 5,
      "outputs": [
        {
          "output_type": "stream",
          "name": "stdout",
          "text": [
            "Enter the array elements separated by spaces: 15 16 14 18 74 85 22 55 51 54 24\n",
            "The array is not monotonic.\n"
          ]
        }
      ]
    }
  ],
  "metadata": {
    "kernelspec": {
      "display_name": "Python 3 (ipykernel)",
      "language": "python",
      "name": "python3"
    },
    "language_info": {
      "codemirror_mode": {
        "name": "ipython",
        "version": 3
      },
      "file_extension": ".py",
      "mimetype": "text/x-python",
      "name": "python",
      "nbconvert_exporter": "python",
      "pygments_lexer": "ipython3",
      "version": "3.9.12"
    },
    "colab": {
      "provenance": [],
      "include_colab_link": true
    }
  },
  "nbformat": 4,
  "nbformat_minor": 5
}