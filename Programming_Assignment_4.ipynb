{
  "cells": [
    {
      "cell_type": "markdown",
      "metadata": {
        "id": "view-in-github",
        "colab_type": "text"
      },
      "source": [
        "<a href=\"https://colab.research.google.com/github/SVShruti/python/blob/main/Programming_Assignment_4.ipynb\" target=\"_parent\"><img src=\"https://colab.research.google.com/assets/colab-badge.svg\" alt=\"Open In Colab\"/></a>"
      ]
    },
    {
      "cell_type": "markdown",
      "id": "20cb4340",
      "metadata": {
        "id": "20cb4340"
      },
      "source": [
        "## Programming Assignment_4\n",
        "----------------"
      ]
    },
    {
      "cell_type": "markdown",
      "id": "4fdb6695",
      "metadata": {
        "id": "4fdb6695"
      },
      "source": [
        "### 1. Write a Python Program to Find the Factorial of a Number?"
      ]
    },
    {
      "cell_type": "code",
      "source": [
        "# Input a number from the user\n",
        "num = int(input(\"Enter a positive integer: \"))\n",
        "\n",
        "# Initialize the factorial to 1\n",
        "factorial = 1\n",
        "\n",
        "# Check if the number is negative\n",
        "if num < 0:\n",
        "    print(\"Factorial is not defined for negative numbers.\")\n",
        "elif num == 0:\n",
        "    print(\"The factorial of 0 is 1.\")\n",
        "else:\n",
        "    # Calculate the factorial using a loop\n",
        "    for i in range(1, num + 1):\n",
        "        factorial *= i\n",
        "\n",
        "    # Display the factorial\n",
        "    print(f\"The factorial of {num} is {factorial}\")\n"
      ],
      "metadata": {
        "id": "hOeAnUwS8YPP",
        "outputId": "e313fec8-49c2-4c7d-eafc-d43040c8e4b4",
        "colab": {
          "base_uri": "https://localhost:8080/"
        }
      },
      "id": "hOeAnUwS8YPP",
      "execution_count": 1,
      "outputs": [
        {
          "output_type": "stream",
          "name": "stdout",
          "text": [
            "Enter a positive integer: 8\n",
            "The factorial of 8 is 40320\n"
          ]
        }
      ]
    },
    {
      "cell_type": "markdown",
      "id": "e6beef62",
      "metadata": {
        "id": "e6beef62"
      },
      "source": [
        "### 2. Write a Python Program to Display the multiplication Table?"
      ]
    },
    {
      "cell_type": "code",
      "source": [
        "# Input a number from the user for which you want to display the multiplication table\n",
        "num = int(input(\"Enter a number: \"))\n",
        "\n",
        "# Display the multiplication table for the input number\n",
        "print(f\"Multiplication Table for {num}:\")\n",
        "\n",
        "# Use a loop to calculate and display the table\n",
        "for i in range(1, 11):  # This loop will calculate the table from 1 to 10\n",
        "    product = num * i\n",
        "    print(f\"{num} x {i} = {product}\")\n"
      ],
      "metadata": {
        "id": "KRlnRPqETMOx",
        "outputId": "bbf42798-9710-45f6-fea5-e4f1bf8bbe94",
        "colab": {
          "base_uri": "https://localhost:8080/"
        }
      },
      "id": "KRlnRPqETMOx",
      "execution_count": 2,
      "outputs": [
        {
          "output_type": "stream",
          "name": "stdout",
          "text": [
            "Enter a number: 9\n",
            "Multiplication Table for 9:\n",
            "9 x 1 = 9\n",
            "9 x 2 = 18\n",
            "9 x 3 = 27\n",
            "9 x 4 = 36\n",
            "9 x 5 = 45\n",
            "9 x 6 = 54\n",
            "9 x 7 = 63\n",
            "9 x 8 = 72\n",
            "9 x 9 = 81\n",
            "9 x 10 = 90\n"
          ]
        }
      ]
    },
    {
      "cell_type": "markdown",
      "source": [],
      "metadata": {
        "id": "-DGZq5N22z65"
      },
      "id": "-DGZq5N22z65"
    },
    {
      "cell_type": "markdown",
      "id": "7de7eba5",
      "metadata": {
        "id": "7de7eba5"
      },
      "source": [
        "### 3. Write a Python Program to Print the Fibonacci sequence?\n"
      ]
    },
    {
      "cell_type": "code",
      "source": [
        "# Input the number of terms in the Fibonacci sequence\n",
        "n = int(input(\"Enter the number of Fibonacci terms to display: \"))\n",
        "\n",
        "# Initialize the first two terms of the sequence\n",
        "a, b = 0, 1\n",
        "\n",
        "# Check if the number of terms is valid\n",
        "if n <= 0:\n",
        "    print(\"Please enter a positive integer.\")\n",
        "elif n == 1:\n",
        "    print(\"Fibonacci Sequence:\")\n",
        "    print(a)\n",
        "else:\n",
        "    # Display the first two terms\n",
        "    print(\"Fibonacci Sequence:\")\n",
        "    print(a)\n",
        "    print(b)\n",
        "\n",
        "    # Calculate and display the remaining terms\n",
        "    for _ in range(2, n):\n",
        "        next_term = a + b\n",
        "        print(next_term)\n",
        "        a, b = b, next_term\n"
      ],
      "metadata": {
        "id": "jofi4-EtoIgB",
        "outputId": "048addc9-cfb3-4e80-e42d-bdb7286937e3",
        "colab": {
          "base_uri": "https://localhost:8080/"
        }
      },
      "id": "jofi4-EtoIgB",
      "execution_count": 4,
      "outputs": [
        {
          "output_type": "stream",
          "name": "stdout",
          "text": [
            "Enter the number of Fibonacci terms to display: 11\n",
            "Fibonacci Sequence:\n",
            "0\n",
            "1\n",
            "1\n",
            "2\n",
            "3\n",
            "5\n",
            "8\n",
            "13\n",
            "21\n",
            "34\n",
            "55\n"
          ]
        }
      ]
    },
    {
      "cell_type": "markdown",
      "id": "0446442e",
      "metadata": {
        "id": "0446442e"
      },
      "source": [
        "### 4. Write a Python Program to Check Armstrong Number?"
      ]
    },
    {
      "cell_type": "code",
      "source": [
        "# Input a number from the user\n",
        "num = int(input(\"Enter a number: \"))\n",
        "\n",
        "# Calculate the number of digits in the input number\n",
        "num_str = str(num)\n",
        "num_digits = len(num_str)\n",
        "\n",
        "# Initialize a variable to store the sum of digits raised to the power of the number of digits\n",
        "sum_of_digits_powered = 0\n",
        "\n",
        "# Calculate the sum of digits raised to the power of the number of digits\n",
        "temp = num\n",
        "while temp > 0:\n",
        "    digit = temp % 10\n",
        "    sum_of_digits_powered += digit ** num_digits\n",
        "    temp //= 10\n",
        "\n",
        "# Check if the input number is an Armstrong number\n",
        "if num == sum_of_digits_powered:\n",
        "    print(num, \"is an Armstrong number.\")\n",
        "else:\n",
        "    print(num, \"is not an Armstrong number.\")\n"
      ],
      "metadata": {
        "id": "AmutkrHVoWTD",
        "outputId": "08608d1f-5aaa-41ef-8b2b-709e53ca6d77",
        "colab": {
          "base_uri": "https://localhost:8080/"
        }
      },
      "id": "AmutkrHVoWTD",
      "execution_count": 7,
      "outputs": [
        {
          "output_type": "stream",
          "name": "stdout",
          "text": [
            "Enter a number: 407\n",
            "407 is an Armstrong number.\n"
          ]
        }
      ]
    },
    {
      "cell_type": "markdown",
      "id": "a6f9adfe",
      "metadata": {
        "id": "a6f9adfe"
      },
      "source": [
        "### 5. Write a Python Program to Find Armstrong Number in an Interval?"
      ]
    },
    {
      "cell_type": "code",
      "source": [
        "# Input the interval (start and end) from the user\n",
        "start = int(input(\"Enter the start of the interval: \"))\n",
        "end = int(input(\"Enter the end of the interval: \"))\n",
        "\n",
        "# Function to check if a number is an Armstrong number\n",
        "def is_armstrong_number(num):\n",
        "    num_str = str(num)\n",
        "    num_digits = len(num_str)\n",
        "    sum_of_digits_powered = sum(int(digit) ** num_digits for digit in num_str)\n",
        "    return num == sum_of_digits_powered\n",
        "\n",
        "# Display Armstrong numbers in the interval\n",
        "print(f\"Armstrong numbers in the interval from {start} to {end}:\")\n",
        "for number in range(start, end + 1):\n",
        "    if is_armstrong_number(number):\n",
        "        print(number)\n"
      ],
      "metadata": {
        "id": "jheiknOjo1Lx",
        "outputId": "41d264ab-f2a5-4a2a-8183-5d883199786e",
        "colab": {
          "base_uri": "https://localhost:8080/"
        }
      },
      "id": "jheiknOjo1Lx",
      "execution_count": 8,
      "outputs": [
        {
          "output_type": "stream",
          "name": "stdout",
          "text": [
            "Enter the start of the interval: 0\n",
            "Enter the end of the interval: 55\n",
            "Armstrong numbers in the interval from 0 to 55:\n",
            "0\n",
            "1\n",
            "2\n",
            "3\n",
            "4\n",
            "5\n",
            "6\n",
            "7\n",
            "8\n",
            "9\n"
          ]
        }
      ]
    },
    {
      "cell_type": "markdown",
      "source": [],
      "metadata": {
        "id": "qbmbp0_822o1"
      },
      "id": "qbmbp0_822o1"
    },
    {
      "cell_type": "markdown",
      "id": "157cad60",
      "metadata": {
        "id": "157cad60"
      },
      "source": [
        "### 6. Write a Python Program to Find the Sum of Natural Numbers?"
      ]
    },
    {
      "cell_type": "code",
      "source": [
        "# Input the limit (positive integer) from the user\n",
        "limit = int(input(\"Enter a positive integer (limit): \"))\n",
        "\n",
        "# Initialize the sum\n",
        "sum_of_natural_numbers = 0\n",
        "\n",
        "# Check if the limit is a positive integer\n",
        "if limit <= 0:\n",
        "    print(\"Please enter a positive integer.\")\n",
        "else:\n",
        "    # Calculate the sum of natural numbers using a loop\n",
        "    for num in range(1, limit + 1):\n",
        "        sum_of_natural_numbers += num\n",
        "\n",
        "    # Display the sum of natural numbers\n",
        "    print(\"The sum of natural numbers up to\", limit, \"is:\", sum_of_natural_numbers)\n"
      ],
      "metadata": {
        "id": "7adl1CYlpBmC",
        "outputId": "02433ee9-a49f-4548-d421-69d5c988196f",
        "colab": {
          "base_uri": "https://localhost:8080/"
        }
      },
      "id": "7adl1CYlpBmC",
      "execution_count": 10,
      "outputs": [
        {
          "output_type": "stream",
          "name": "stdout",
          "text": [
            "Enter a positive integer (limit): 15\n",
            "The sum of natural numbers up to 15 is: 120\n"
          ]
        }
      ]
    }
  ],
  "metadata": {
    "kernelspec": {
      "display_name": "Python 3 (ipykernel)",
      "language": "python",
      "name": "python3"
    },
    "language_info": {
      "codemirror_mode": {
        "name": "ipython",
        "version": 3
      },
      "file_extension": ".py",
      "mimetype": "text/x-python",
      "name": "python",
      "nbconvert_exporter": "python",
      "pygments_lexer": "ipython3",
      "version": "3.9.12"
    },
    "colab": {
      "provenance": [],
      "include_colab_link": true
    }
  },
  "nbformat": 4,
  "nbformat_minor": 5
}