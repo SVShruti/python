{
  "cells": [
    {
      "cell_type": "markdown",
      "metadata": {
        "id": "view-in-github",
        "colab_type": "text"
      },
      "source": [
        "<a href=\"https://colab.research.google.com/github/SVShruti/python/blob/main/Programming_Assignment_9.ipynb\" target=\"_parent\"><img src=\"https://colab.research.google.com/assets/colab-badge.svg\" alt=\"Open In Colab\"/></a>"
      ]
    },
    {
      "cell_type": "markdown",
      "id": "47b9bb99",
      "metadata": {
        "id": "47b9bb99"
      },
      "source": [
        "## Programming Assignment_9\n",
        "----------------"
      ]
    },
    {
      "cell_type": "markdown",
      "id": "c725f7a9",
      "metadata": {
        "id": "c725f7a9"
      },
      "source": [
        "### 1. Write a Python program to check if the given number is a Disarium Number?"
      ]
    },
    {
      "cell_type": "code",
      "source": [
        "def is_disarium_number(num):\n",
        "    # Convert the number to a string to work with individual digits\n",
        "    num_str = str(num)\n",
        "\n",
        "    # Calculate the sum of digits raised to their respective positions\n",
        "    sum_of_powers = sum(int(digit) ** (index + 1) for index, digit in enumerate(num_str))\n",
        "\n",
        "    # Check if the sum equals the original number\n",
        "    return sum_of_powers == num\n",
        "\n",
        "# Input a number from the user\n",
        "num = int(input(\"Enter a number: \"))\n",
        "\n",
        "# Check if it's a Disarium number and print the result\n",
        "if is_disarium_number(num):\n",
        "    print(f\"{num} is a Disarium number.\")\n",
        "else:\n",
        "    print(f\"{num} is not a Disarium number.\")\n",
        "\n"
      ],
      "metadata": {
        "id": "PSqDJMtZ1tUr",
        "outputId": "0d50d2f3-66ee-45e4-fc76-02c67ebc24f3",
        "colab": {
          "base_uri": "https://localhost:8080/"
        }
      },
      "id": "PSqDJMtZ1tUr",
      "execution_count": 4,
      "outputs": [
        {
          "output_type": "stream",
          "name": "stdout",
          "text": [
            "Enter a number: 9\n",
            "9 is a Disarium number.\n"
          ]
        }
      ]
    },
    {
      "cell_type": "markdown",
      "id": "f0064401",
      "metadata": {
        "id": "f0064401"
      },
      "source": [
        "### 2. Write a Python program to print all disarium numbers between 1 to 100?"
      ]
    },
    {
      "cell_type": "code",
      "source": [
        "def is_disarium_number(num):\n",
        "    num_str = str(num)\n",
        "    sum_of_powers = sum(int(digit) ** (index + 1) for index, digit in enumerate(num_str))\n",
        "    return sum_of_powers == num\n",
        "\n",
        "# Iterate through numbers from 1 to 100\n",
        "print(\"Disarium numbers between 1 and 100:\")\n",
        "for num in range(1, 101):\n",
        "    if is_disarium_number(num):\n",
        "        print(num)"
      ],
      "metadata": {
        "id": "pzTPvT9z2Fv6",
        "outputId": "e00823ed-d457-4202-eff3-c688164f5aa0",
        "colab": {
          "base_uri": "https://localhost:8080/"
        }
      },
      "id": "pzTPvT9z2Fv6",
      "execution_count": 3,
      "outputs": [
        {
          "output_type": "stream",
          "name": "stdout",
          "text": [
            "Disarium numbers between 1 and 100:\n",
            "1\n",
            "2\n",
            "3\n",
            "4\n",
            "5\n",
            "6\n",
            "7\n",
            "8\n",
            "9\n",
            "89\n"
          ]
        }
      ]
    },
    {
      "cell_type": "markdown",
      "id": "31df1e4a",
      "metadata": {
        "id": "31df1e4a"
      },
      "source": [
        "### 3. Write a Python program to check if the given number is Happy Number?"
      ]
    },
    {
      "cell_type": "code",
      "source": [
        "def is_happy_number(num):\n",
        "    def get_next(number):\n",
        "        next_num = 0\n",
        "        while number > 0:\n",
        "            digit = number % 10\n",
        "            next_num += digit ** 2\n",
        "            number //= 10\n",
        "        return next_num\n",
        "\n",
        "    seen = set()\n",
        "    while num != 1 and num not in seen:\n",
        "        seen.add(num)\n",
        "        num = get_next(num)\n",
        "\n",
        "    return num == 1\n",
        "\n",
        "# Input a number from the user\n",
        "num = int(input(\"Enter a number: \"))\n",
        "\n",
        "# Check if it's a Happy Number and print the result\n",
        "if is_happy_number(num):\n",
        "    print(f\"{num} is a Happy Number.\")\n",
        "else:\n",
        "    print(f\"{num} is not a Happy Number.\")\n"
      ],
      "metadata": {
        "id": "q_lWgBkR2c0M",
        "outputId": "93aa132e-8302-487d-e4f4-1a81395fe8ee",
        "colab": {
          "base_uri": "https://localhost:8080/"
        }
      },
      "id": "q_lWgBkR2c0M",
      "execution_count": 7,
      "outputs": [
        {
          "output_type": "stream",
          "name": "stdout",
          "text": [
            "Enter a number: 31\n",
            "31 is a Happy Number.\n"
          ]
        }
      ]
    },
    {
      "cell_type": "markdown",
      "id": "51b265e3",
      "metadata": {
        "id": "51b265e3"
      },
      "source": [
        "### 4. Write a Python program to print all happy numbers between 1 and 100?"
      ]
    },
    {
      "cell_type": "code",
      "source": [
        "def is_happy_number(num):\n",
        "    def get_next(number):\n",
        "        next_num = 0\n",
        "        while number > 0:\n",
        "            digit = number % 10\n",
        "            next_num += digit ** 2\n",
        "            number //= 10\n",
        "        return next_num\n",
        "\n",
        "    seen = set()\n",
        "    while num != 1 and num not in seen:\n",
        "        seen.add(num)\n",
        "        num = get_next(num)\n",
        "\n",
        "    return num == 1\n",
        "\n",
        "def find_happy_numbers(limit):\n",
        "    happy_numbers = []\n",
        "    for num in range(1, limit + 1):\n",
        "        if is_happy_number(num):\n",
        "            happy_numbers.append(num)\n",
        "    return happy_numbers\n",
        "\n",
        "# Find and print all Happy Numbers between 1 and 100\n",
        "happy_numbers = find_happy_numbers(100)\n",
        "print(\"Happy Numbers between 1 and 100:\")\n",
        "print(happy_numbers)\n"
      ],
      "metadata": {
        "id": "Om0DDCsm2sJW",
        "outputId": "ecf5d593-ff31-4459-e75d-8663547a3489",
        "colab": {
          "base_uri": "https://localhost:8080/"
        }
      },
      "id": "Om0DDCsm2sJW",
      "execution_count": 6,
      "outputs": [
        {
          "output_type": "stream",
          "name": "stdout",
          "text": [
            "Happy Numbers between 1 and 100:\n",
            "[1, 7, 10, 13, 19, 23, 28, 31, 32, 44, 49, 68, 70, 79, 82, 86, 91, 94, 97, 100]\n"
          ]
        }
      ]
    },
    {
      "cell_type": "markdown",
      "id": "6a190ee0",
      "metadata": {
        "id": "6a190ee0"
      },
      "source": [
        "### 5. Write a Python program to determine whether the given number is a Harshad Number?"
      ]
    },
    {
      "cell_type": "code",
      "source": [
        "# Function to check if a number is a Harshad Number\n",
        "def is_harshad_number(num):\n",
        "    # Calculate the sum of the digits of the number\n",
        "    digit_sum = sum(int(digit) for digit in str(num))\n",
        "\n",
        "    # Check if the number is divisible by the sum of its digits\n",
        "    return num % digit_sum == 0\n",
        "\n",
        "# Input a number from the user\n",
        "num = int(input(\"Enter a number: \"))\n",
        "\n",
        "# Check if it's a Harshad Number and print the result\n",
        "if is_harshad_number(num):\n",
        "    print(f\"{num} is a Harshad Number.\")\n",
        "else:\n",
        "    print(f\"{num} is not a Harshad Number.\")\n"
      ],
      "metadata": {
        "id": "GzobVOxj26TH",
        "outputId": "c467a85f-ec49-407e-c689-eb8d13c86cfd",
        "colab": {
          "base_uri": "https://localhost:8080/"
        }
      },
      "id": "GzobVOxj26TH",
      "execution_count": 8,
      "outputs": [
        {
          "output_type": "stream",
          "name": "stdout",
          "text": [
            "Enter a number: 50\n",
            "50 is a Harshad Number.\n"
          ]
        }
      ]
    },
    {
      "cell_type": "markdown",
      "id": "7a7ea92e",
      "metadata": {
        "id": "7a7ea92e"
      },
      "source": [
        "### 6. Write a Python program to print all pronic numbers between 1 and 100?"
      ]
    },
    {
      "cell_type": "code",
      "source": [
        "def is_pronic_number(num):\n",
        "    for n in range(1, num // 2 + 1):\n",
        "        if n * (n + 1) == num:\n",
        "            return True\n",
        "    return False\n",
        "\n",
        "def find_pronic_numbers(limit):\n",
        "    pronic_numbers = []\n",
        "    for num in range(1, limit + 1):\n",
        "        if is_pronic_number(num):\n",
        "            pronic_numbers.append(num)\n",
        "    return pronic_numbers\n",
        "\n",
        "# Find and print all pronic numbers between 1 and 100\n",
        "pronic_numbers = find_pronic_numbers(100)\n",
        "print(\"Pronic Numbers between 1 and 100:\")\n",
        "print(pronic_numbers)\n"
      ],
      "metadata": {
        "id": "TdiMHxrF3FmO",
        "outputId": "23aaa756-4d7e-41e0-9a16-9eefa334c042",
        "colab": {
          "base_uri": "https://localhost:8080/"
        }
      },
      "id": "TdiMHxrF3FmO",
      "execution_count": 9,
      "outputs": [
        {
          "output_type": "stream",
          "name": "stdout",
          "text": [
            "Pronic Numbers between 1 and 100:\n",
            "[2, 6, 12, 20, 30, 42, 56, 72, 90]\n"
          ]
        }
      ]
    }
  ],
  "metadata": {
    "kernelspec": {
      "display_name": "Python 3 (ipykernel)",
      "language": "python",
      "name": "python3"
    },
    "language_info": {
      "codemirror_mode": {
        "name": "ipython",
        "version": 3
      },
      "file_extension": ".py",
      "mimetype": "text/x-python",
      "name": "python",
      "nbconvert_exporter": "python",
      "pygments_lexer": "ipython3",
      "version": "3.9.12"
    },
    "colab": {
      "provenance": [],
      "include_colab_link": true
    }
  },
  "nbformat": 4,
  "nbformat_minor": 5
}