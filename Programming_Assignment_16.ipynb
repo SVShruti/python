{
  "cells": [
    {
      "cell_type": "markdown",
      "metadata": {
        "id": "view-in-github",
        "colab_type": "text"
      },
      "source": [
        "<a href=\"https://colab.research.google.com/github/SVShruti/python/blob/main/Programming_Assignment_16.ipynb\" target=\"_parent\"><img src=\"https://colab.research.google.com/assets/colab-badge.svg\" alt=\"Open In Colab\"/></a>"
      ]
    },
    {
      "cell_type": "markdown",
      "id": "e304dc88",
      "metadata": {
        "id": "e304dc88"
      },
      "source": [
        "## Python Basic Programming Assignment 16\n",
        "---------------------"
      ]
    },
    {
      "cell_type": "markdown",
      "id": "d82eeee0",
      "metadata": {
        "id": "d82eeee0"
      },
      "source": [
        "### 1. Write a function that stutters a word as if someone is struggling to read it. The first two letters are repeated twice with an ellipsis ... and space after each, and then the word is pronounced with a question mark ?. Examples stutter('incredible') ➞ 'in... in... incredible?' stutter('enthusiastic') ➞ 'en... en... enthusiastic?' stutter('outstanding') ➞ 'ou... ou... outstanding?'\n",
        "\n",
        "### Hint :- Assume all input is in lower case and at least two characters long."
      ]
    },
    {
      "cell_type": "code",
      "source": [
        "def stutter(word):\n",
        "    if len(word) >= 2:\n",
        "        stuttered = word[:2] + '... ' + word[:2] + '... ' + word + '?'\n",
        "        return stuttered\n",
        "    else:\n",
        "        return \"Input word should be at least two characters long.\"\n",
        "\n",
        "# Test cases\n",
        "print(stutter('incredible'))    # Output: 'in... in... incredible?'\n",
        "print(stutter('enthusiastic'))  # Output: 'en... en... enthusiastic?'\n",
        "print(stutter('outstanding'))   # Output: 'ou... ou... outstanding?'\n"
      ],
      "metadata": {
        "id": "JCqzSGP_wTKC",
        "outputId": "cf6bc8e5-bf99-4626-98f2-ecb5fb348d42",
        "colab": {
          "base_uri": "https://localhost:8080/"
        }
      },
      "id": "JCqzSGP_wTKC",
      "execution_count": 1,
      "outputs": [
        {
          "output_type": "stream",
          "name": "stdout",
          "text": [
            "in... in... incredible?\n",
            "en... en... enthusiastic?\n",
            "ou... ou... outstanding?\n"
          ]
        }
      ]
    },
    {
      "cell_type": "markdown",
      "id": "47e1bd41",
      "metadata": {
        "id": "47e1bd41"
      },
      "source": [
        "\n",
        "### 2. Create a function that takes an angle in radians and returns the corresponding angle in degrees rounded to one decimal place."
      ]
    },
    {
      "cell_type": "code",
      "source": [
        "import math\n",
        "\n",
        "def radians_to_degrees(radians):\n",
        "    degrees = radians * 180 / math.pi\n",
        "    return round(degrees, 1)\n",
        "\n",
        "# Test cases\n",
        "angle_in_radians = 1.5708  # This is approximately 90 degrees in radians\n",
        "result = radians_to_degrees(angle_in_radians)\n",
        "print(result)  # Output: 90.0\n"
      ],
      "metadata": {
        "id": "lAEVRoLnwc9Z",
        "outputId": "fee5b612-a0bf-4351-b6ba-05a5ef0d221c",
        "colab": {
          "base_uri": "https://localhost:8080/"
        }
      },
      "id": "lAEVRoLnwc9Z",
      "execution_count": 2,
      "outputs": [
        {
          "output_type": "stream",
          "name": "stdout",
          "text": [
            "90.0\n"
          ]
        }
      ]
    },
    {
      "cell_type": "markdown",
      "id": "07cad4d9",
      "metadata": {
        "id": "07cad4d9"
      },
      "source": [
        "\n",
        "### 3. In this challenge, establish if a given integer num is a Curzon number. If 1 plus 2 elevated to num is exactly divisible by 1 plus 2 multiplied by num, then num is a Curzon number. Given a non-negative integer num, implement a function that returns True if num is a Curzon number, or False otherwise."
      ]
    },
    {
      "cell_type": "code",
      "source": [
        "def is_curzon(num):\n",
        "    numerator = 2 ** num + 1\n",
        "    denominator = 2 * num + 1\n",
        "    return numerator % denominator == 0\n",
        "\n",
        "# Test cases\n",
        "print(is_curzon(5))  # Output: True, because 2^5 + 1 = 33, and 2*5 + 1 = 11, and 33 is divisible by 11.\n",
        "print(is_curzon(10)) # Output: False, because 2^10 + 1 = 1025, and 2*10 + 1 = 21, and 1025 is not divisible by 21.\n"
      ],
      "metadata": {
        "id": "9V3Amu-XwcAA",
        "outputId": "23b74ecd-b785-42c1-e799-c35de7843e46",
        "colab": {
          "base_uri": "https://localhost:8080/"
        }
      },
      "id": "9V3Amu-XwcAA",
      "execution_count": 3,
      "outputs": [
        {
          "output_type": "stream",
          "name": "stdout",
          "text": [
            "True\n",
            "False\n"
          ]
        }
      ]
    },
    {
      "cell_type": "markdown",
      "id": "cfad2cfc",
      "metadata": {
        "id": "cfad2cfc"
      },
      "source": [
        "\n",
        "### 4. Given the side length x find the area of a hexagon."
      ]
    },
    {
      "cell_type": "code",
      "source": [
        "import math\n",
        "\n",
        "def hexagon_area(side_length):\n",
        "    area = (3 * math.sqrt(3) * (side_length ** 2)) / 2\n",
        "    return area\n",
        "\n",
        "# Test case\n",
        "side_length = 5  # Replace with the desired side length\n",
        "area = hexagon_area(side_length)\n",
        "print(f\"The area of the hexagon with side length {side_length} is {area:.2f} square units.\")\n"
      ],
      "metadata": {
        "id": "uviQ3S3Awqdm",
        "outputId": "f7c9b1a5-738c-4f51-97b4-f4acf145da80",
        "colab": {
          "base_uri": "https://localhost:8080/"
        }
      },
      "id": "uviQ3S3Awqdm",
      "execution_count": 4,
      "outputs": [
        {
          "output_type": "stream",
          "name": "stdout",
          "text": [
            "The area of the hexagon with side length 5 is 64.95 square units.\n"
          ]
        }
      ]
    },
    {
      "cell_type": "markdown",
      "id": "dbc79e02",
      "metadata": {
        "id": "dbc79e02"
      },
      "source": [
        "\n",
        "### 5. Create a function that returns a base-2 (binary) representation of a base-10 (decimal) string number. To convert is simple: ((2) means base-2 and (10) means base-10) 010101001(2) = 1 + 8 + 32 + 128."
      ]
    },
    {
      "cell_type": "code",
      "source": [
        "def decimal_to_binary(decimal_str):\n",
        "    try:\n",
        "        decimal_int = int(decimal_str)\n",
        "        binary_str = bin(decimal_int)[2:]  # Convert to binary and remove the '0b' prefix\n",
        "        return binary_str\n",
        "    except ValueError:\n",
        "        return \"Invalid input: Not a valid decimal number.\"\n",
        "\n",
        "# Test cases\n",
        "decimal_str = \"42\"  # Replace with the desired decimal number as a string\n",
        "binary_result = decimal_to_binary(decimal_str)\n",
        "print(f\"Binary representation of {decimal_str}: {binary_result}\")\n"
      ],
      "metadata": {
        "id": "I6d4DfeVwyNJ",
        "outputId": "4f893504-dff1-4146-809b-1adbeb9e0f91",
        "colab": {
          "base_uri": "https://localhost:8080/"
        }
      },
      "id": "I6d4DfeVwyNJ",
      "execution_count": 5,
      "outputs": [
        {
          "output_type": "stream",
          "name": "stdout",
          "text": [
            "Binary representation of 42: 101010\n"
          ]
        }
      ]
    }
  ],
  "metadata": {
    "kernelspec": {
      "display_name": "Python 3 (ipykernel)",
      "language": "python",
      "name": "python3"
    },
    "language_info": {
      "codemirror_mode": {
        "name": "ipython",
        "version": 3
      },
      "file_extension": ".py",
      "mimetype": "text/x-python",
      "name": "python",
      "nbconvert_exporter": "python",
      "pygments_lexer": "ipython3",
      "version": "3.9.12"
    },
    "colab": {
      "provenance": [],
      "include_colab_link": true
    }
  },
  "nbformat": 4,
  "nbformat_minor": 5
}