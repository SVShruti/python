{
  "cells": [
    {
      "cell_type": "markdown",
      "metadata": {
        "id": "view-in-github",
        "colab_type": "text"
      },
      "source": [
        "<a href=\"https://colab.research.google.com/github/SVShruti/python/blob/main/Copy_of_Day3_Challenge_Dictionary.ipynb\" target=\"_parent\"><img src=\"https://colab.research.google.com/assets/colab-badge.svg\" alt=\"Open In Colab\"/></a>"
      ]
    },
    {
      "cell_type": "markdown",
      "id": "2b5f8c22-ae50-4767-9788-d4b755ac5ca8",
      "metadata": {
        "id": "2b5f8c22-ae50-4767-9788-d4b755ac5ca8"
      },
      "source": [
        "# Day 3 : Challenge Questions- Dictionary\n",
        "\n",
        "Solve Each of the Below Questions and Submit Your Answers on Linked in Post within 48 Hours. Attach Screenshots Preferably. If you are not able to Solve, comment \"Unable to Solve\" or \"Need More Time\""
      ]
    },
    {
      "cell_type": "markdown",
      "id": "7d4b295e-10dd-4b73-a274-16aa1f066b00",
      "metadata": {
        "id": "7d4b295e-10dd-4b73-a274-16aa1f066b00"
      },
      "source": [
        "# Question 1\n",
        "\n",
        "**Creating and Accessing Dictionaries**\n",
        "\n",
        "**1.1 Creating Dictionaries:**\n",
        "\n",
        "a) Create a dictionary named book with the following key-value pairs: **title: 'To Kill a Mockingbird', author: 'Harper Lee', year: 1960.**\n",
        "\n",
        "b) Create a dictionary named library using the dict function with the following key-value pairs: **location: 'Main St', num_books: 3000, open_hours: '9AM-5PM'.**\n",
        "\n",
        "**1.2 Accessing Elements:**\n",
        "\n",
        "a) Access and print the value associated with the key **title** from the book dictionary.\n",
        "\n",
        "b) Update the **year** value in the book dictionary to 1961 and print the updated dictionary.\n",
        "\n",
        "c) Add a new key-value pair **genre: 'Fiction'** to the book dictionary and print the updated dictionary.\n",
        "\n",
        "d) Access the value of **num_books from the library dictionary** using the **get** method and print it.\n",
        "\n"
      ]
    },
    {
      "cell_type": "code",
      "execution_count": null,
      "id": "48ad872b-29eb-452d-bafa-8478b6cbc0ca",
      "metadata": {
        "id": "48ad872b-29eb-452d-bafa-8478b6cbc0ca",
        "outputId": "474264c0-d297-4047-bb12-f960e9b976e3",
        "colab": {
          "base_uri": "https://localhost:8080/"
        }
      },
      "outputs": [
        {
          "output_type": "stream",
          "name": "stdout",
          "text": [
            "{'title': 'To Kill a Mockingbird', 'author': 'Harper Lee', 'year': 1960}\n"
          ]
        }
      ],
      "source": [
        "#a) Create a dictionary named book with the following key-value pairs: title: 'To Kill a Mockingbird', author: 'Harper Lee', year: 1960.\n",
        "book={\"title\":\"To Kill a Mockingbird\", \"author\":\"Harper Lee\", \"year\": 1960}\n",
        "print(book)"
      ]
    },
    {
      "cell_type": "code",
      "source": [
        "#Create a dictionary named library using the dict function with the following key-value pairs: location: 'Main St', num_books: 3000, open_hours: '9AM-5PM'.\n",
        "library={\"location\": \"Main St\", \"num_books\": 3000, \"open_hours\": '9AM-5PM'}\n",
        "print(library)"
      ],
      "metadata": {
        "id": "GYSp9iEy_4Bm",
        "outputId": "d9ffbcaa-4ef0-4bf7-c608-fe8d55922177",
        "colab": {
          "base_uri": "https://localhost:8080/"
        }
      },
      "id": "GYSp9iEy_4Bm",
      "execution_count": null,
      "outputs": [
        {
          "output_type": "stream",
          "name": "stdout",
          "text": [
            "{'location': 'Main St', 'num_books': 3000, 'open_hours': '9AM-5PM'}\n"
          ]
        }
      ]
    },
    {
      "cell_type": "code",
      "source": [
        "#a) Access and print the value associated with the key title from the book dictionary.\n",
        "print(book[\"title\"])"
      ],
      "metadata": {
        "id": "hRL3B6kVAh-d",
        "outputId": "b386920d-9297-4e35-a14a-c40f33358af1",
        "colab": {
          "base_uri": "https://localhost:8080/"
        }
      },
      "id": "hRL3B6kVAh-d",
      "execution_count": null,
      "outputs": [
        {
          "output_type": "stream",
          "name": "stdout",
          "text": [
            "To Kill a Mockingbird\n"
          ]
        }
      ]
    },
    {
      "cell_type": "code",
      "source": [
        "#b) Update the year value in the book dictionary to 1961 and print the updated dictionary.\n",
        "book[\"year\"]=1961\n",
        "print(book)"
      ],
      "metadata": {
        "id": "-uFIm9LeBIcx",
        "outputId": "049886a1-5d4b-4d8e-92ae-b7c8e1d39af5",
        "colab": {
          "base_uri": "https://localhost:8080/"
        }
      },
      "id": "-uFIm9LeBIcx",
      "execution_count": null,
      "outputs": [
        {
          "output_type": "stream",
          "name": "stdout",
          "text": [
            "{'title': 'To Kill a Mockingbird', 'author': 'Harper Lee', 'year': 1961}\n"
          ]
        }
      ]
    },
    {
      "cell_type": "code",
      "source": [
        "#Add a new key-value pair genre: 'Fiction' to the book dictionary and print the updated dictionary.\n",
        "book[\"genre\"]=\"Fiction\"\n",
        "print(book)"
      ],
      "metadata": {
        "id": "Bwr0UgCgBg7d",
        "outputId": "b65cca26-35e6-4ce4-e12c-e3a2cf125791",
        "colab": {
          "base_uri": "https://localhost:8080/"
        }
      },
      "id": "Bwr0UgCgBg7d",
      "execution_count": null,
      "outputs": [
        {
          "output_type": "stream",
          "name": "stdout",
          "text": [
            "{'title': 'To Kill a Mockingbird', 'author': 'Harper Lee', 'year': 1961, 'genre': 'Fiction'}\n"
          ]
        }
      ]
    },
    {
      "cell_type": "code",
      "source": [
        "#Access the value of num_books from the library dictionary using the get method and print it.\n",
        "print(library.get(\"num_books\"))"
      ],
      "metadata": {
        "id": "v1aRI68iBhQo",
        "outputId": "72bdc933-83ac-4df4-bfe1-15023366e933",
        "colab": {
          "base_uri": "https://localhost:8080/"
        }
      },
      "id": "v1aRI68iBhQo",
      "execution_count": null,
      "outputs": [
        {
          "output_type": "stream",
          "name": "stdout",
          "text": [
            "3000\n"
          ]
        }
      ]
    },
    {
      "cell_type": "markdown",
      "id": "56c336f5-fe1c-4cbd-873c-a6cc4f72d929",
      "metadata": {
        "id": "56c336f5-fe1c-4cbd-873c-a6cc4f72d929"
      },
      "source": [
        "# Question 2\n",
        "\n",
        "**Dictionary Methods and Comprehension**\n",
        "\n",
        "**2.1 Dictionary Methods:**\n",
        "\n",
        "a) Create a dictionary named inventory with the following key-value pairs: **apple: 10, banana: 20, orange: 15.**\n",
        "\n",
        "b) Use the **keys** method to print all the keys in the inventory dictionary.\n",
        "\n",
        "c) Use the **values** method to print all the values in the inventory dictionary.\n",
        "\n",
        "d) Use the **items** method to print all the key-value pairs in the inventory dictionary.\n",
        "\n",
        "e) Use the **pop** method to remove the key-value pair for banana from the inventory dictionary and print the updated dictionary.\n",
        "\n",
        "**2.2 Dictionary Comprehension:**\n",
        "\n",
        "a) Create a new dictionary named **cubed_numbers** using dictionary comprehension where the keys are numbers from 1 to 5 and the values are their cubes.\n",
        "\n",
        "b) Create a new dictionary named **fruit_lengths** using dictionary comprehension from the inventory dictionary, where the keys are the same and the values are the length of the fruit names.\n",
        "\n",
        "**(To Find length of a string, we use len(string))**\n"
      ]
    },
    {
      "cell_type": "code",
      "execution_count": null,
      "id": "68a916ad-9681-47af-8510-6ba221e3b335",
      "metadata": {
        "id": "68a916ad-9681-47af-8510-6ba221e3b335",
        "outputId": "cdc818c0-18cb-4321-d4dc-88de7fd49428",
        "colab": {
          "base_uri": "https://localhost:8080/"
        }
      },
      "outputs": [
        {
          "output_type": "stream",
          "name": "stdout",
          "text": [
            "{'apple': 10, 'banana': 20, 'orange': 15}\n"
          ]
        }
      ],
      "source": [
        "# a) Create a dictionary named inventory with the following key-value pairs: apple: 10, banana: 20, orange: 15.\n",
        "inventory ={ \"apple\": 10, \"banana\": 20,\"orange\": 15}\n",
        "print (inventory)"
      ]
    },
    {
      "cell_type": "code",
      "source": [
        "#b. Use the keys method to print all the keys in the inventory dictionary.\n",
        "print(inventory.keys())\n"
      ],
      "metadata": {
        "id": "NbJh3qCK14Q_",
        "outputId": "33e72556-154e-4278-839b-fe9ca14baa70",
        "colab": {
          "base_uri": "https://localhost:8080/"
        }
      },
      "id": "NbJh3qCK14Q_",
      "execution_count": null,
      "outputs": [
        {
          "output_type": "stream",
          "name": "stdout",
          "text": [
            "dict_keys(['apple', 'banana', 'orange'])\n"
          ]
        }
      ]
    },
    {
      "cell_type": "code",
      "source": [
        "#c Use the values method to print all the values in the inventory dictionary.\n",
        "print(inventory.values())"
      ],
      "metadata": {
        "id": "8m0KnMI52mT7",
        "outputId": "e4538d6e-3b27-4a26-b907-5a4d20a96c9f",
        "colab": {
          "base_uri": "https://localhost:8080/"
        }
      },
      "id": "8m0KnMI52mT7",
      "execution_count": null,
      "outputs": [
        {
          "output_type": "stream",
          "name": "stdout",
          "text": [
            "dict_values([10, 20, 15])\n"
          ]
        }
      ]
    },
    {
      "cell_type": "code",
      "source": [
        "#d Use the items method to print all the key-value pairs in the inventory dictionary.\n",
        "print(inventory.items())"
      ],
      "metadata": {
        "id": "cH--_Vh42m6K",
        "outputId": "b9ac59a7-8489-40b8-d0bf-00018269ca1b",
        "colab": {
          "base_uri": "https://localhost:8080/"
        }
      },
      "id": "cH--_Vh42m6K",
      "execution_count": null,
      "outputs": [
        {
          "output_type": "stream",
          "name": "stdout",
          "text": [
            "dict_items([('apple', 10), ('banana', 20), ('orange', 15)])\n"
          ]
        }
      ]
    },
    {
      "cell_type": "code",
      "source": [
        "#e) Use the pop method to remove the key-value pair for banana from the inventory dictionary and print the updated dictionary.\n",
        "inventory.pop(\"banana\")\n",
        "print(inventory)"
      ],
      "metadata": {
        "id": "2wFFASGj2ngK",
        "outputId": "b781c88e-3c96-4e0a-9598-66d87f506fa7",
        "colab": {
          "base_uri": "https://localhost:8080/"
        }
      },
      "id": "2wFFASGj2ngK",
      "execution_count": null,
      "outputs": [
        {
          "output_type": "stream",
          "name": "stdout",
          "text": [
            "{'apple': 10, 'orange': 15}\n"
          ]
        }
      ]
    },
    {
      "cell_type": "code",
      "source": [
        "#aCreate a new dictionary named cubed_numbers using dictionary comprehension where the keys are numbers from 1 to 5 and the values are their cubes.\n",
        "cubed_numbers={x:x**3 for x in range(1,6)}\n",
        "print(cubed_numbers)\n"
      ],
      "metadata": {
        "id": "9Kwph0D19tft",
        "outputId": "35d3f54a-7b8a-4e1a-9458-bd852e4bad31",
        "colab": {
          "base_uri": "https://localhost:8080/"
        }
      },
      "id": "9Kwph0D19tft",
      "execution_count": null,
      "outputs": [
        {
          "output_type": "stream",
          "name": "stdout",
          "text": [
            "{1: 1, 2: 8, 3: 27, 4: 64, 5: 125}\n"
          ]
        }
      ]
    },
    {
      "cell_type": "code",
      "source": [
        "#b) Create a new dictionary named fruit_lengths using dictionary comprehension from the inventory dictionary, where the keys are the same and the values are the length of the fruit names.\n",
        "fruit_lengths={fruit:len(fruit) for fruit in inventory}\n",
        "print(fruit_lengths)"
      ],
      "metadata": {
        "id": "BRKHGWT6974a",
        "outputId": "fe65a351-48ca-44fb-f478-cfbb713b9ab4",
        "colab": {
          "base_uri": "https://localhost:8080/"
        }
      },
      "id": "BRKHGWT6974a",
      "execution_count": null,
      "outputs": [
        {
          "output_type": "stream",
          "name": "stdout",
          "text": [
            "{'apple': 5, 'orange': 6}\n"
          ]
        }
      ]
    }
  ],
  "metadata": {
    "kernelspec": {
      "display_name": "Python 3 (ipykernel)",
      "language": "python",
      "name": "python3"
    },
    "language_info": {
      "codemirror_mode": {
        "name": "ipython",
        "version": 3
      },
      "file_extension": ".py",
      "mimetype": "text/x-python",
      "name": "python",
      "nbconvert_exporter": "python",
      "pygments_lexer": "ipython3",
      "version": "3.11.8"
    },
    "colab": {
      "provenance": [],
      "include_colab_link": true
    }
  },
  "nbformat": 4,
  "nbformat_minor": 5
}