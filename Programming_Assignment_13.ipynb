{
  "cells": [
    {
      "cell_type": "markdown",
      "metadata": {
        "id": "view-in-github",
        "colab_type": "text"
      },
      "source": [
        "<a href=\"https://colab.research.google.com/github/SVShruti/python/blob/main/Programming_Assignment_13.ipynb\" target=\"_parent\"><img src=\"https://colab.research.google.com/assets/colab-badge.svg\" alt=\"Open In Colab\"/></a>"
      ]
    },
    {
      "cell_type": "markdown",
      "id": "62fd0c8e",
      "metadata": {
        "id": "62fd0c8e"
      },
      "source": [
        "# Python Programming Basic Assignment 13"
      ]
    },
    {
      "cell_type": "markdown",
      "id": "ed4a3c0b",
      "metadata": {
        "id": "ed4a3c0b"
      },
      "source": [
        "\n",
        "### 1. Write a program that calculates and prints the value according to the given formula:\n",
        "Q = Square root of [(2 C D)/H]\n",
        "\n",
        "Following are the fixed values of C and H:\n",
        "\n",
        "C is 50. H is 30.\n",
        "\n",
        "D is the variable whose values should be input to your program in a comma-separated sequence.\n",
        "\n",
        "Example\n",
        "\n",
        "Let us assume the following comma separated input sequence is given to the program:\n",
        "\n",
        "100,150,180\n",
        "\n",
        "The output of the program should be:\n",
        "\n",
        "18,22,24"
      ]
    },
    {
      "cell_type": "code",
      "source": [
        "import math\n",
        "\n",
        "# Fixed values\n",
        "C = 50\n",
        "H = 30\n",
        "\n",
        "# Input the values of D as a comma-separated sequence\n",
        "input_sequence = input(\"Enter the values of D separated by commas: \")\n",
        "\n",
        "# Split the input sequence into a list of integers\n",
        "values_of_D = [int(x) for x in input_sequence.split(',')]\n",
        "\n",
        "# Calculate and print the values according to the formula\n",
        "results = []\n",
        "for D in values_of_D:\n",
        "    Q = math.sqrt((2 * C * D) / H)\n",
        "    results.append(int(Q))\n",
        "\n",
        "# Convert the results to a comma-separated string\n",
        "output_sequence = ', '.join(map(str, results))\n",
        "\n",
        "# Display the output\n",
        "print(\"Output:\")\n",
        "print(output_sequence)\n"
      ],
      "metadata": {
        "id": "1VqzuMeguxbP",
        "outputId": "5b267f76-8aed-404d-d213-f7b7cb529f1d",
        "colab": {
          "base_uri": "https://localhost:8080/"
        }
      },
      "id": "1VqzuMeguxbP",
      "execution_count": 3,
      "outputs": [
        {
          "output_type": "stream",
          "name": "stdout",
          "text": [
            "Enter the values of D separated by commas: 100,150,180\n",
            "Output:\n",
            "18, 22, 24\n"
          ]
        }
      ]
    },
    {
      "cell_type": "markdown",
      "id": "ed37b6ed",
      "metadata": {
        "id": "ed37b6ed"
      },
      "source": [
        "### 2. Write a program which takes 2 digits, X,Y as input and generates a 2-dimensional array. The element value in the i-th row and j-th column of the array should be i*j."
      ]
    },
    {
      "cell_type": "code",
      "source": [
        "# Input two digits, X and Y\n",
        "X = int(input(\"Enter the number of rows (X): \"))\n",
        "Y = int(input(\"Enter the number of columns (Y): \"))\n",
        "\n",
        "# Generate the 2-dimensional array\n",
        "two_dimensional_array = []\n",
        "\n",
        "for i in range(X):\n",
        "    row = []\n",
        "    for j in range(Y):\n",
        "        row.append(i * j)\n",
        "    two_dimensional_array.append(row)\n",
        "\n",
        "# Display the 2-dimensional array\n",
        "print(\"2-Dimensional Array:\")\n",
        "for row in two_dimensional_array:\n",
        "    print(row)\n"
      ],
      "metadata": {
        "id": "vdmsaMFivTsN",
        "outputId": "79a56184-7342-44ff-fd22-536dbcb69f2c",
        "colab": {
          "base_uri": "https://localhost:8080/"
        }
      },
      "id": "vdmsaMFivTsN",
      "execution_count": 4,
      "outputs": [
        {
          "output_type": "stream",
          "name": "stdout",
          "text": [
            "Enter the number of rows (X): 3\n",
            "Enter the number of columns (Y): 2\n",
            "2-Dimensional Array:\n",
            "[0, 0]\n",
            "[0, 1]\n",
            "[0, 2]\n"
          ]
        }
      ]
    },
    {
      "cell_type": "markdown",
      "id": "bc7f977b",
      "metadata": {
        "id": "bc7f977b"
      },
      "source": [
        "### 3. Write a program that accepts a comma separated sequence of words as input and prints the words in a comma-separated sequence after sorting them alphabetically."
      ]
    },
    {
      "cell_type": "code",
      "source": [
        "# Input a comma-separated sequence of words from the user\n",
        "input_sequence = input(\"Enter a comma-separated sequence of words: \")\n",
        "\n",
        "# Split the input sequence into a list of words\n",
        "words = input_sequence.split(',')\n",
        "\n",
        "# Remove leading and trailing whitespaces from each word and sort them alphabetically\n",
        "sorted_words = sorted([word.strip() for word in words])\n",
        "\n",
        "# Join the sorted words into a comma-separated string\n",
        "output_sequence = ', '.join(sorted_words)\n",
        "\n",
        "# Display the sorted words\n",
        "print(\"Sorted words:\")\n",
        "print(output_sequence)\n"
      ],
      "metadata": {
        "id": "Nq5sSpTLveuK",
        "outputId": "d1572b20-0c7d-4e6a-d7e6-6cbeb9085915",
        "colab": {
          "base_uri": "https://localhost:8080/"
        }
      },
      "id": "Nq5sSpTLveuK",
      "execution_count": 5,
      "outputs": [
        {
          "output_type": "stream",
          "name": "stdout",
          "text": [
            "Enter a comma-separated sequence of words: cat, mat, table, chair, board, chalk\n",
            "Sorted words:\n",
            "board, cat, chair, chalk, mat, table\n"
          ]
        }
      ]
    },
    {
      "cell_type": "markdown",
      "id": "171c3d90",
      "metadata": {
        "id": "171c3d90"
      },
      "source": [
        "### 4. Write a program that accepts a sequence of whitespace separated words as input and prints the words after removing all duplicate words and sorting them alphanumerically."
      ]
    },
    {
      "cell_type": "code",
      "source": [
        "# Input a sequence of whitespace-separated words from the user\n",
        "input_sequence = input(\"Enter a sequence of whitespace-separated words: \")\n",
        "\n",
        "# Split the input sequence into a list of words\n",
        "words = input_sequence.split()\n",
        "\n",
        "# Remove duplicates by converting the list to a set and back to a list\n",
        "unique_words = list(set(words))\n",
        "\n",
        "# Sort the unique words alphanumerically\n",
        "sorted_words = sorted(unique_words)\n",
        "\n",
        "# Join the sorted words into a whitespace-separated string\n",
        "output_sequence = ' '.join(sorted_words)\n",
        "\n",
        "# Display the sorted and deduplicated words\n",
        "print(\"Sorted and deduplicated words:\")\n",
        "print(output_sequence)\n"
      ],
      "metadata": {
        "id": "9-6uOkJ4vpuM",
        "outputId": "cc9b3d69-f9f4-4cf9-b059-38c5f6f44dcf",
        "colab": {
          "base_uri": "https://localhost:8080/"
        }
      },
      "id": "9-6uOkJ4vpuM",
      "execution_count": 6,
      "outputs": [
        {
          "output_type": "stream",
          "name": "stdout",
          "text": [
            "Enter a sequence of whitespace-separated words: hello world is usually the first program\n",
            "Sorted and deduplicated words:\n",
            "first hello is program the usually world\n"
          ]
        }
      ]
    },
    {
      "cell_type": "markdown",
      "id": "88d25c49",
      "metadata": {
        "id": "88d25c49"
      },
      "source": [
        "### 5. Write a program that accepts a sentence and calculate the number of letters and digits."
      ]
    },
    {
      "cell_type": "code",
      "source": [
        "# Input a sentence from the user\n",
        "sentence = input(\"Enter a sentence: \")\n",
        "\n",
        "# Initialize counters for letters and digits\n",
        "letter_count = 0\n",
        "digit_count = 0\n",
        "\n",
        "# Iterate through each character in the sentence\n",
        "for char in sentence:\n",
        "    if char.isalpha():\n",
        "        letter_count += 1\n",
        "    elif char.isdigit():\n",
        "        digit_count += 1\n",
        "\n",
        "# Display the counts\n",
        "print(\"Number of letters:\", letter_count)\n",
        "print(\"Number of digits:\", digit_count)\n"
      ],
      "metadata": {
        "id": "7Nu-vHfgv6Uz",
        "outputId": "eb34bc07-29c4-4014-c7ec-1b2de9508114",
        "colab": {
          "base_uri": "https://localhost:8080/"
        }
      },
      "id": "7Nu-vHfgv6Uz",
      "execution_count": 7,
      "outputs": [
        {
          "output_type": "stream",
          "name": "stdout",
          "text": [
            "Enter a sentence: Hello Garima! Nice to see you.\n",
            "Number of letters: 23\n",
            "Number of digits: 0\n"
          ]
        }
      ]
    },
    {
      "cell_type": "markdown",
      "id": "9695c4ca",
      "metadata": {
        "id": "9695c4ca"
      },
      "source": [
        "### 6. A website requires the users to input username and password to register. Write a program to check the validity of password input by users."
      ]
    },
    {
      "cell_type": "code",
      "source": [
        "import re\n",
        "\n",
        "def is_valid_password(password):\n",
        "    # Check if the password length is at least 8 characters\n",
        "    if len(password) < 8:\n",
        "        return False\n",
        "\n",
        "    # Check if the password contains at least one letter\n",
        "    if not re.search(\"[a-zA-Z]\", password):\n",
        "        return False\n",
        "\n",
        "    # Check if the password contains at least one digit\n",
        "    if not re.search(\"[0-9]\", password):\n",
        "        return False\n",
        "\n",
        "    # Check if the password contains at least one special character (e.g., @, #, $, etc.)\n",
        "    if not re.search(\"[!@#$%^&*()_+]\", password):\n",
        "        return False\n",
        "\n",
        "    return True\n",
        "\n",
        "# Input a password from the user\n",
        "password = input(\"Enter a password: \")\n",
        "\n",
        "# Check the validity of the password\n",
        "if is_valid_password(password):\n",
        "    print(\"Valid password.\")\n",
        "else:\n",
        "    print(\"Invalid password. Please follow the password criteria.\")\n"
      ],
      "metadata": {
        "id": "tO9g4WLnwMlr",
        "outputId": "99d5f6d1-c591-4acf-c2ee-252f1357d04e",
        "colab": {
          "base_uri": "https://localhost:8080/"
        }
      },
      "id": "tO9g4WLnwMlr",
      "execution_count": 8,
      "outputs": [
        {
          "output_type": "stream",
          "name": "stdout",
          "text": [
            "Enter a password: CritianoRonaldoCR@7\n",
            "Valid password.\n"
          ]
        }
      ]
    }
  ],
  "metadata": {
    "kernelspec": {
      "display_name": "Python 3 (ipykernel)",
      "language": "python",
      "name": "python3"
    },
    "language_info": {
      "codemirror_mode": {
        "name": "ipython",
        "version": 3
      },
      "file_extension": ".py",
      "mimetype": "text/x-python",
      "name": "python",
      "nbconvert_exporter": "python",
      "pygments_lexer": "ipython3",
      "version": "3.9.12"
    },
    "colab": {
      "provenance": [],
      "include_colab_link": true
    }
  },
  "nbformat": 4,
  "nbformat_minor": 5
}