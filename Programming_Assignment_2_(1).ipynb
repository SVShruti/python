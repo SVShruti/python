{
  "cells": [
    {
      "cell_type": "markdown",
      "metadata": {
        "id": "view-in-github",
        "colab_type": "text"
      },
      "source": [
        "<a href=\"https://colab.research.google.com/github/SVShruti/python/blob/main/Programming_Assignment_2_(1).ipynb\" target=\"_parent\"><img src=\"https://colab.research.google.com/assets/colab-badge.svg\" alt=\"Open In Colab\"/></a>"
      ]
    },
    {
      "cell_type": "markdown",
      "id": "08c66ea5",
      "metadata": {
        "id": "08c66ea5"
      },
      "source": [
        "## Programming Assignment_2\n",
        "-------------"
      ]
    },
    {
      "cell_type": "markdown",
      "id": "4e50cf42",
      "metadata": {
        "id": "4e50cf42"
      },
      "source": [
        "1. Write a Python program to convert kilometers to miles?\n"
      ]
    },
    {
      "cell_type": "code",
      "source": [
        "# Input distance in kilometers from the user\n",
        "kilometers = float(input(\"Enter distance in kilometers: \"))\n",
        "\n",
        "# Convert kilometers to miles using the conversion factor\n",
        "miles = kilometers * 0.621371\n",
        "\n",
        "# Display the converted distance in miles\n",
        "print(f\"{kilometers} kilometers is approximately equal to {miles} miles\")\n"
      ],
      "metadata": {
        "id": "qQyvvwwxtDt6",
        "outputId": "f5ca25e1-7e83-4ed9-c6d5-31512f5aa0d1",
        "colab": {
          "base_uri": "https://localhost:8080/"
        }
      },
      "id": "qQyvvwwxtDt6",
      "execution_count": 1,
      "outputs": [
        {
          "output_type": "stream",
          "name": "stdout",
          "text": [
            "Enter distance in kilometers: 6\n",
            "6.0 kilometers is approximately equal to 3.7282260000000003 miles\n"
          ]
        }
      ]
    },
    {
      "cell_type": "markdown",
      "id": "0df4e6bf",
      "metadata": {
        "id": "0df4e6bf"
      },
      "source": [
        "### 2.Write a Python program to convert Celsius to Fahrenheit?"
      ]
    },
    {
      "cell_type": "code",
      "source": [
        "# Input temperature in Celsius from the user\n",
        "celsius = float(input(\"Enter temperature in Celsius: \"))\n",
        "\n",
        "# Convert Celsius to Fahrenheit using the formula\n",
        "fahrenheit = (celsius * 9/5) + 32\n",
        "\n",
        "# Display the converted temperature in Fahrenheit\n",
        "print(f\"{celsius} degrees Celsius is equal to {fahrenheit} degrees Fahrenheit\")\n"
      ],
      "metadata": {
        "id": "l0cKU5JVtSZo",
        "outputId": "edd2f345-0634-482c-cee4-383a9157a81e",
        "colab": {
          "base_uri": "https://localhost:8080/"
        }
      },
      "id": "l0cKU5JVtSZo",
      "execution_count": 2,
      "outputs": [
        {
          "output_type": "stream",
          "name": "stdout",
          "text": [
            "Enter temperature in Celsius: 44\n",
            "44.0 degrees Celsius is equal to 111.2 degrees Fahrenheit\n"
          ]
        }
      ]
    },
    {
      "cell_type": "markdown",
      "source": [],
      "metadata": {
        "id": "Q-iUx4CQoppc"
      },
      "id": "Q-iUx4CQoppc"
    },
    {
      "cell_type": "markdown",
      "id": "46129b8e",
      "metadata": {
        "id": "46129b8e"
      },
      "source": [
        "3. Write a Python program to display calendar?\n"
      ]
    },
    {
      "cell_type": "code",
      "source": [
        "import calendar\n",
        "\n",
        "# Input the year and month from the user\n",
        "year = int(input(\"Enter year (e.g., 2023): \"))\n",
        "month = int(input(\"Enter month (1-12): \"))\n",
        "\n",
        "# Display the calendar for the specified year and month\n",
        "cal = calendar.month(year, month)\n",
        "print(f\"Calendar for {calendar.month_name[month]} {year}:\\n\")\n",
        "print(cal)\n"
      ],
      "metadata": {
        "id": "D2htReoWtWvG",
        "outputId": "2c5e5382-c21a-4ef3-cc1b-2c10e71cea7d",
        "colab": {
          "base_uri": "https://localhost:8080/"
        }
      },
      "id": "D2htReoWtWvG",
      "execution_count": 3,
      "outputs": [
        {
          "output_type": "stream",
          "name": "stdout",
          "text": [
            "Enter year (e.g., 2023): 2023\n",
            "Enter month (1-12): 9\n",
            "Calendar for September 2023:\n",
            "\n",
            "   September 2023\n",
            "Mo Tu We Th Fr Sa Su\n",
            "             1  2  3\n",
            " 4  5  6  7  8  9 10\n",
            "11 12 13 14 15 16 17\n",
            "18 19 20 21 22 23 24\n",
            "25 26 27 28 29 30\n",
            "\n"
          ]
        }
      ]
    },
    {
      "cell_type": "markdown",
      "id": "db2bf0f7",
      "metadata": {
        "id": "db2bf0f7"
      },
      "source": [
        "### 4. Write a Python program to solve quadratic equation?"
      ]
    },
    {
      "cell_type": "code",
      "source": [
        "import math\n",
        "\n",
        "# Input coefficients (a, b, c) from the user\n",
        "a = float(input(\"Enter coefficient a: \"))\n",
        "b = float(input(\"Enter coefficient b: \"))\n",
        "c = float(input(\"Enter coefficient c: \"))\n",
        "\n",
        "# Calculate the discriminant\n",
        "discriminant = b**2 - 4*a*c\n",
        "\n",
        "# Check the discriminant for real solutions\n",
        "if discriminant > 0:\n",
        "    # Two real solutions\n",
        "    root1 = (-b + math.sqrt(discriminant)) / (2*a)\n",
        "    root2 = (-b - math.sqrt(discriminant)) / (2*a)\n",
        "    print(f\"Two real solutions: {root1} and {root2}\")\n",
        "elif discriminant == 0:\n",
        "    # One real solution (repeated)\n",
        "    root = -b / (2*a)\n",
        "    print(f\"One real solution: {root}\")\n",
        "else:\n",
        "    # Complex solutions\n",
        "    real_part = -b / (2*a)\n",
        "    imaginary_part = math.sqrt(-discriminant) / (2*a)\n",
        "    root1 = complex(real_part, imaginary_part)\n",
        "    root2 = complex(real_part, -imaginary_part)\n",
        "    print(f\"Complex solutions: {root1} and {root2}\")\n"
      ],
      "metadata": {
        "id": "BQNCWvd-trZ0",
        "outputId": "d0da35aa-7ab5-445f-8c99-aea2fbc536be",
        "colab": {
          "base_uri": "https://localhost:8080/"
        }
      },
      "id": "BQNCWvd-trZ0",
      "execution_count": 5,
      "outputs": [
        {
          "output_type": "stream",
          "name": "stdout",
          "text": [
            "Enter coefficient a: 5\n",
            "Enter coefficient b: 14\n",
            "Enter coefficient c: 2\n",
            "Two real solutions: -0.15100040032032033 and -2.6489995996796796\n"
          ]
        }
      ]
    },
    {
      "cell_type": "markdown",
      "id": "f70f74c9",
      "metadata": {
        "id": "f70f74c9"
      },
      "source": [
        "5. Write a Python program to swap two variables without temp variable?"
      ]
    },
    {
      "cell_type": "code",
      "source": [
        "# Input two variables from the user\n",
        "var1 = input(\"Enter the first variable: \")\n",
        "var2 = input(\"Enter the second variable: \")\n",
        "\n",
        "# Swap the variables without a temporary variable\n",
        "var1, var2 = var2, var1\n",
        "\n",
        "# Display the swapped variables\n",
        "print(\"After swapping:\")\n",
        "print(\"First variable:\", var1)\n",
        "print(\"Second variable:\", var2)\n"
      ],
      "metadata": {
        "id": "fpWIDDsUuEfZ",
        "outputId": "f5e0bb09-8790-41ca-d1b8-6bcc9195cdef",
        "colab": {
          "base_uri": "https://localhost:8080/"
        }
      },
      "id": "fpWIDDsUuEfZ",
      "execution_count": 7,
      "outputs": [
        {
          "output_type": "stream",
          "name": "stdout",
          "text": [
            "Enter the first variable: batman\n",
            "Enter the second variable: returns\n",
            "After swapping:\n",
            "First variable: returns\n",
            "Second variable: batman\n"
          ]
        }
      ]
    }
  ],
  "metadata": {
    "kernelspec": {
      "display_name": "Python 3 (ipykernel)",
      "language": "python",
      "name": "python3"
    },
    "language_info": {
      "codemirror_mode": {
        "name": "ipython",
        "version": 3
      },
      "file_extension": ".py",
      "mimetype": "text/x-python",
      "name": "python",
      "nbconvert_exporter": "python",
      "pygments_lexer": "ipython3",
      "version": "3.9.12"
    },
    "colab": {
      "provenance": [],
      "include_colab_link": true
    }
  },
  "nbformat": 4,
  "nbformat_minor": 5
}