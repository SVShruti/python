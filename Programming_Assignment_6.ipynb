{
  "cells": [
    {
      "cell_type": "markdown",
      "id": "84a41a9f",
      "metadata": {
        "id": "84a41a9f"
      },
      "source": [
        "# Programming Basic Assignment 6"
      ]
    },
    {
      "cell_type": "markdown",
      "id": "a4b40558",
      "metadata": {
        "id": "a4b40558"
      },
      "source": [
        "### 1. Write a Python Program to Display Fibonacci Sequence Using Recursion?"
      ]
    },
    {
      "cell_type": "code",
      "source": [
        "def fibonacci(n):\n",
        "    if n <= 0:\n",
        "        return []\n",
        "    elif n == 1:\n",
        "        return [0]\n",
        "    elif n == 2:\n",
        "        return [0, 1]\n",
        "    else:\n",
        "        fib_seq = fibonacci(n - 1)\n",
        "        fib_seq.append(fib_seq[-1] + fib_seq[-2])\n",
        "        return fib_seq\n",
        "\n",
        "# Input the number of terms in the Fibonacci sequence\n",
        "n = int(input(\"Enter the number of terms in the Fibonacci sequence: \"))\n",
        "\n",
        "if n <= 0:\n",
        "    print(\"Invalid input. Please enter a positive integer.\")\n",
        "else:\n",
        "    fib_sequence = fibonacci(n)\n",
        "    print(\"Fibonacci sequence:\")\n",
        "    for num in fib_sequence:\n",
        "        print(num, end=\" \")\n"
      ],
      "metadata": {
        "colab": {
          "base_uri": "https://localhost:8080/"
        },
        "id": "443RZVYbGGVz",
        "outputId": "7fc4ff70-35df-4b66-f37d-97b0861b7cc3"
      },
      "id": "443RZVYbGGVz",
      "execution_count": 2,
      "outputs": [
        {
          "output_type": "stream",
          "name": "stdout",
          "text": [
            "Enter the number of terms in the Fibonacci sequence: 9\n",
            "Fibonacci sequence:\n",
            "0 1 1 2 3 5 8 13 21 "
          ]
        }
      ]
    },
    {
      "cell_type": "markdown",
      "id": "d7a57f60",
      "metadata": {
        "id": "d7a57f60"
      },
      "source": [
        "### 2. Write a Python Program to Find Factorial of Number Using Recursion?"
      ]
    },
    {
      "cell_type": "code",
      "source": [
        "def factorial(n):\n",
        "    if n == 0:\n",
        "        return 1\n",
        "    else:\n",
        "        return n * factorial(n - 1)\n",
        "\n",
        "# Input the number for which you want to find the factorial\n",
        "num = int(input(\"Enter a non-negative integer: \"))\n",
        "\n",
        "if num < 0:\n",
        "    print(\"Factorial is not defined for negative numbers.\")\n",
        "else:\n",
        "    result = factorial(num)\n",
        "    print(f\"The factorial of {num} is {result}.\")\n"
      ],
      "metadata": {
        "colab": {
          "base_uri": "https://localhost:8080/"
        },
        "id": "PW3e-YSJGYJw",
        "outputId": "05913627-f33d-4e0d-8382-488cf59d7add"
      },
      "id": "PW3e-YSJGYJw",
      "execution_count": 3,
      "outputs": [
        {
          "output_type": "stream",
          "name": "stdout",
          "text": [
            "Enter a non-negative integer: 15\n",
            "The factorial of 15 is 1307674368000.\n"
          ]
        }
      ]
    },
    {
      "cell_type": "markdown",
      "id": "0357b86f",
      "metadata": {
        "id": "0357b86f"
      },
      "source": [
        "### 3. Write a Python Program to calculate your Body Mass Index?"
      ]
    },
    {
      "cell_type": "code",
      "source": [
        "# Input weight (in kilograms) and height (in meters)\n",
        "weight = float(input(\"Enter your weight (in kilograms): \"))\n",
        "height = float(input(\"Enter your height (in meters): \"))\n",
        "\n",
        "# Calculate BMI\n",
        "bmi = weight / (height ** 2)\n",
        "\n",
        "# Display the BMI\n",
        "print(\"Your Body Mass Index (BMI) is:\", bmi)\n",
        "\n",
        "# Interpret the BMI\n",
        "if bmi < 18.5:\n",
        "    print(\"You are underweight.\")\n",
        "elif 18.5 <= bmi < 24.9:\n",
        "    print(\"You have a normal weight.\")\n",
        "elif 24.9 <= bmi < 29.9:\n",
        "    print(\"You are overweight.\")\n",
        "else:\n",
        "    print(\"You are obese.\")\n"
      ],
      "metadata": {
        "colab": {
          "base_uri": "https://localhost:8080/"
        },
        "id": "w53F5oTRGtZg",
        "outputId": "fc7c0f11-6319-4387-c545-8a147f7a1e88"
      },
      "id": "w53F5oTRGtZg",
      "execution_count": 4,
      "outputs": [
        {
          "output_type": "stream",
          "name": "stdout",
          "text": [
            "Enter your weight (in kilograms): 48\n",
            "Enter your height (in meters): 1.57\n",
            "Your Body Mass Index (BMI) is: 19.473406629072173\n",
            "You have a normal weight.\n"
          ]
        }
      ]
    },
    {
      "cell_type": "markdown",
      "id": "96d344a4",
      "metadata": {
        "id": "96d344a4"
      },
      "source": [
        "### 4. Write a Python Program to calculate the natural logarithm of any number?"
      ]
    },
    {
      "cell_type": "code",
      "source": [
        "import math\n",
        "\n",
        "# Input a number\n",
        "num = float(input(\"Enter a positive number: \"))\n",
        "\n",
        "# Check if the number is positive\n",
        "if num <= 0:\n",
        "    print(\"Please enter a positive number.\")\n",
        "else:\n",
        "    # Calculate the natural logarithm\n",
        "    result = math.log(num)\n",
        "\n",
        "    # Display the result\n",
        "    print(f\"The natural logarithm of {num} is {result:.4f}\")\n"
      ],
      "metadata": {
        "colab": {
          "base_uri": "https://localhost:8080/"
        },
        "id": "cu0u0WlWHBaR",
        "outputId": "df6349c5-623a-4406-a08b-21e44b55d45f"
      },
      "id": "cu0u0WlWHBaR",
      "execution_count": 5,
      "outputs": [
        {
          "output_type": "stream",
          "name": "stdout",
          "text": [
            "Enter a positive number: 25\n",
            "The natural logarithm of 25.0 is 3.2189\n"
          ]
        }
      ]
    },
    {
      "cell_type": "markdown",
      "id": "11c0d92c",
      "metadata": {
        "id": "11c0d92c"
      },
      "source": [
        "\n",
        "### 5. Write a Python Program for cube sum of first n natural numbers?\n"
      ]
    },
    {
      "cell_type": "code",
      "source": [
        "# Input the value of n\n",
        "n = int(input(\"Enter a positive integer (n): \"))\n",
        "\n",
        "# Check if n is a positive integer\n",
        "if n <= 0:\n",
        "    print(\"Please enter a positive integer.\")\n",
        "else:\n",
        "    # Calculate the cube sum\n",
        "    cube_sum = sum([i ** 3 for i in range(1, n + 1)])\n",
        "\n",
        "    # Display the cube sum\n",
        "    print(f\"The cube sum of the first {n} natural numbers is {cube_sum}.\")\n"
      ],
      "metadata": {
        "colab": {
          "base_uri": "https://localhost:8080/"
        },
        "id": "h1ZIZxgTHTfQ",
        "outputId": "758b87c2-f6a7-4f07-afe4-c321e67a09e6"
      },
      "id": "h1ZIZxgTHTfQ",
      "execution_count": 6,
      "outputs": [
        {
          "output_type": "stream",
          "name": "stdout",
          "text": [
            "Enter a positive integer (n): 125\n",
            "The cube sum of the first 125 natural numbers is 62015625.\n"
          ]
        }
      ]
    },
    {
      "cell_type": "code",
      "source": [],
      "metadata": {
        "id": "Xgkl-HSIHn3L"
      },
      "id": "Xgkl-HSIHn3L",
      "execution_count": null,
      "outputs": []
    }
  ],
  "metadata": {
    "kernelspec": {
      "display_name": "Python 3 (ipykernel)",
      "language": "python",
      "name": "python3"
    },
    "language_info": {
      "codemirror_mode": {
        "name": "ipython",
        "version": 3
      },
      "file_extension": ".py",
      "mimetype": "text/x-python",
      "name": "python",
      "nbconvert_exporter": "python",
      "pygments_lexer": "ipython3",
      "version": "3.9.12"
    },
    "colab": {
      "provenance": []
    }
  },
  "nbformat": 4,
  "nbformat_minor": 5
}