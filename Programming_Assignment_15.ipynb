{
  "cells": [
    {
      "cell_type": "markdown",
      "metadata": {
        "id": "view-in-github",
        "colab_type": "text"
      },
      "source": [
        "<a href=\"https://colab.research.google.com/github/SVShruti/python/blob/main/Programming_Assignment_15.ipynb\" target=\"_parent\"><img src=\"https://colab.research.google.com/assets/colab-badge.svg\" alt=\"Open In Colab\"/></a>"
      ]
    },
    {
      "cell_type": "markdown",
      "id": "7df6e6a0",
      "metadata": {
        "id": "7df6e6a0"
      },
      "source": [
        "## Python Basic Programming Assignment - 15\n",
        "-------------------"
      ]
    },
    {
      "cell_type": "markdown",
      "id": "de299c62",
      "metadata": {
        "id": "de299c62"
      },
      "source": [
        "### 1. Please write a program using generator to print the numbers which can be divisible by 5 and 7 between 0 and n in comma separated form while n is input by console."
      ]
    },
    {
      "cell_type": "code",
      "source": [
        "def divisible_by_5_and_7(n):\n",
        "    for num in range(n + 1):\n",
        "        if num % 5 == 0 and num % 7 == 0:\n",
        "            yield num\n",
        "\n",
        "# Input 'n' from the user\n",
        "n = int(input(\"Enter a value for 'n': \"))\n",
        "\n",
        "# Generate and print numbers divisible by 5 and 7\n",
        "result = divisible_by_5_and_7(n)\n",
        "comma_separated_numbers = ', '.join(map(str, result))\n",
        "print(\"Numbers divisible by 5 and 7 between 0 and\", n, \"are:\", comma_separated_numbers)\n"
      ],
      "metadata": {
        "id": "whByVt_Y6CGu",
        "outputId": "1d44f436-616c-4a4a-d889-a18d9e83972e",
        "colab": {
          "base_uri": "https://localhost:8080/"
        }
      },
      "id": "whByVt_Y6CGu",
      "execution_count": 1,
      "outputs": [
        {
          "output_type": "stream",
          "name": "stdout",
          "text": [
            "Enter a value for 'n': 45\n",
            "Numbers divisible by 5 and 7 between 0 and 45 are: 0, 35\n"
          ]
        }
      ]
    },
    {
      "cell_type": "markdown",
      "id": "c04aab80",
      "metadata": {
        "id": "c04aab80"
      },
      "source": [
        "\n",
        "### 2. Please write a program using generator to print the even numbers between 0 and n in comma separated form while n is input by console."
      ]
    },
    {
      "cell_type": "code",
      "source": [
        "def even_numbers(n):\n",
        "    for num in range(n + 1):\n",
        "        if num % 2 == 0:\n",
        "            yield num\n",
        "\n",
        "# Input 'n' from the user\n",
        "n = int(input(\"Enter a value for 'n': \"))\n",
        "\n",
        "# Generate and print even numbers\n",
        "result = even_numbers(n)\n",
        "comma_separated_numbers = ', '.join(map(str, result))\n",
        "print(\"Even numbers between 0 and\", n, \"are:\", comma_separated_numbers)\n",
        "\n"
      ],
      "metadata": {
        "id": "llCtKFmT6UKu",
        "outputId": "7f943fcc-0c04-45f8-8707-42f129f074bc",
        "colab": {
          "base_uri": "https://localhost:8080/"
        }
      },
      "id": "llCtKFmT6UKu",
      "execution_count": 3,
      "outputs": [
        {
          "output_type": "stream",
          "name": "stdout",
          "text": [
            "Enter a value for 'n': 40\n",
            "Even numbers between 0 and 40 are: 0, 2, 4, 6, 8, 10, 12, 14, 16, 18, 20, 22, 24, 26, 28, 30, 32, 34, 36, 38, 40\n"
          ]
        }
      ]
    },
    {
      "cell_type": "markdown",
      "id": "35b72559",
      "metadata": {
        "id": "35b72559"
      },
      "source": [
        "### 3. Please write a program using list comprehension to print the Fibonacci Sequence in comma separated form with a given n input by console."
      ]
    },
    {
      "cell_type": "code",
      "source": [
        "# Function to generate Fibonacci sequence up to n terms using list comprehension\n",
        "def fibonacci_sequence(n):\n",
        "    fib = [0, 1]\n",
        "    [fib.append(fib[-1] + fib[-2]) for _ in range(n - 2)]\n",
        "    return fib[:n]\n",
        "\n",
        "# Input 'n' from the user\n",
        "n = int(input(\"Enter the number of terms in the Fibonacci sequence: \"))\n",
        "\n",
        "# Generate and print the Fibonacci sequence\n",
        "fib_sequence = fibonacci_sequence(n)\n",
        "comma_separated_sequence = ', '.join(map(str, fib_sequence))\n",
        "print(\"Fibonacci Sequence up to\", n, \"terms:\", comma_separated_sequence)\n"
      ],
      "metadata": {
        "id": "PuMAoNqN6nT1",
        "outputId": "d33b2efd-ef4b-4035-ee7e-ac7c2148ffc3",
        "colab": {
          "base_uri": "https://localhost:8080/"
        }
      },
      "id": "PuMAoNqN6nT1",
      "execution_count": 5,
      "outputs": [
        {
          "output_type": "stream",
          "name": "stdout",
          "text": [
            "Enter the number of terms in the Fibonacci sequence: 23\n",
            "Fibonacci Sequence up to 23 terms: 0, 1, 1, 2, 3, 5, 8, 13, 21, 34, 55, 89, 144, 233, 377, 610, 987, 1597, 2584, 4181, 6765, 10946, 17711\n"
          ]
        }
      ]
    },
    {
      "cell_type": "markdown",
      "id": "dea0be0f",
      "metadata": {
        "id": "dea0be0f"
      },
      "source": [
        "\n",
        "### 4. Assuming that we have some email addresses in the \"username@companyname.com\" format, please write program to print the user name of a given email address. Both user names and company names are composed of letters only."
      ]
    },
    {
      "cell_type": "code",
      "source": [
        "# Input an email address from the user\n",
        "email = input(\"Enter an email address in the 'username@companyname.com' format: \")\n",
        "\n",
        "# Split the email address at the '@' symbol\n",
        "parts = email.split('@')\n",
        "\n",
        "# Check if the email address has the correct format\n",
        "if len(parts) == 2 and parts[1].lower() == \"companyname.com\":\n",
        "    # Extract and print the username\n",
        "    username = parts[0]\n",
        "    print(\"Username:\", username)\n",
        "else:\n",
        "    print(\"Invalid email address format. Please use 'username@companyname.com'.\")\n",
        "\n"
      ],
      "metadata": {
        "id": "tBmCAgCO64xk",
        "outputId": "d6319ada-bf03-41b3-941c-01a40e0bd142",
        "colab": {
          "base_uri": "https://localhost:8080/"
        }
      },
      "id": "tBmCAgCO64xk",
      "execution_count": 12,
      "outputs": [
        {
          "output_type": "stream",
          "name": "stdout",
          "text": [
            "Enter an email address in the 'username@companyname.com' format: ShrutiVidyarthi@companyname.com\n",
            "Username: ShrutiVidyarthi\n"
          ]
        }
      ]
    },
    {
      "cell_type": "markdown",
      "id": "2834c88f",
      "metadata": {
        "id": "2834c88f"
      },
      "source": [
        "\n",
        "### 5. Define a class named Shape and its subclass Square. The Square class has an init function which takes a length as argument. Both classes have a area function which can print the area of the shape where Shape's area is 0 by default."
      ]
    },
    {
      "cell_type": "code",
      "source": [
        "class Shape:\n",
        "    def area(self):\n",
        "        return 0\n",
        "\n",
        "class Square(Shape):\n",
        "    def __init__(self, length):\n",
        "        self.length = length\n",
        "\n",
        "    def area(self):\n",
        "        return self.length ** 2\n",
        "\n",
        "# Create an instance of the Square class\n",
        "square = Square(5)\n",
        "\n",
        "# Calculate and print the area of the square\n",
        "print(\"Area of the square:\", square.area())\n",
        "\n",
        "# Create an instance of the Shape class\n",
        "shape = Shape()\n",
        "\n",
        "# Default area of the shape (0)\n",
        "print(\"Area of the shape:\", shape.area())\n"
      ],
      "metadata": {
        "id": "MAi3F9JD7veG",
        "outputId": "979f6fb8-85c4-4d5b-a8d8-2e1f5bc10203",
        "colab": {
          "base_uri": "https://localhost:8080/"
        }
      },
      "id": "MAi3F9JD7veG",
      "execution_count": 13,
      "outputs": [
        {
          "output_type": "stream",
          "name": "stdout",
          "text": [
            "Area of the square: 25\n",
            "Area of the shape: 0\n"
          ]
        }
      ]
    }
  ],
  "metadata": {
    "kernelspec": {
      "display_name": "Python 3 (ipykernel)",
      "language": "python",
      "name": "python3"
    },
    "language_info": {
      "codemirror_mode": {
        "name": "ipython",
        "version": 3
      },
      "file_extension": ".py",
      "mimetype": "text/x-python",
      "name": "python",
      "nbconvert_exporter": "python",
      "pygments_lexer": "ipython3",
      "version": "3.9.12"
    },
    "colab": {
      "provenance": [],
      "include_colab_link": true
    }
  },
  "nbformat": 4,
  "nbformat_minor": 5
}