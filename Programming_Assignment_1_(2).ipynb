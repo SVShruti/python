{
  "cells": [
    {
      "cell_type": "markdown",
      "metadata": {
        "id": "view-in-github",
        "colab_type": "text"
      },
      "source": [
        "<a href=\"https://colab.research.google.com/github/SVShruti/python/blob/main/Programming_Assignment_1_(2).ipynb\" target=\"_parent\"><img src=\"https://colab.research.google.com/assets/colab-badge.svg\" alt=\"Open In Colab\"/></a>"
      ]
    },
    {
      "cell_type": "markdown",
      "id": "637b47a5",
      "metadata": {
        "id": "637b47a5"
      },
      "source": [
        "## Programming Assignment_1\n",
        "-------------"
      ]
    },
    {
      "cell_type": "markdown",
      "id": "0c647dbe",
      "metadata": {
        "id": "0c647dbe"
      },
      "source": [
        "### 1. Write a Python program to print \"Hello Python\"?"
      ]
    },
    {
      "cell_type": "code",
      "source": [
        "# This is a Python program that prints \"Hello Python\" to the console.\n",
        "print(\"Hello Python\")\n"
      ],
      "metadata": {
        "id": "SwyxCl5Ela-O",
        "outputId": "7939a725-1a9f-42fe-bbd2-15658f178175",
        "colab": {
          "base_uri": "https://localhost:8080/"
        }
      },
      "id": "SwyxCl5Ela-O",
      "execution_count": 1,
      "outputs": [
        {
          "output_type": "stream",
          "name": "stdout",
          "text": [
            "Hello Python\n"
          ]
        }
      ]
    },
    {
      "cell_type": "markdown",
      "id": "fc18a6cd",
      "metadata": {
        "id": "fc18a6cd"
      },
      "source": [
        "### 2. Write a Python program to do arithmetical operations addition and division.?\n"
      ]
    },
    {
      "cell_type": "code",
      "source": [
        "# Input two numbers from the user\n",
        "num1 = float(input(\"Enter the first number: \"))\n",
        "num2 = float(input(\"Enter the second number: \"))\n",
        "\n",
        "# Perform addition and division operations\n",
        "sum_result = num1 + num2\n",
        "division_result = num1 / num2\n",
        "\n",
        "# Display the results\n",
        "print(\"Sum:\", sum_result)\n",
        "print(\"Division:\", division_result)\n"
      ],
      "metadata": {
        "id": "4T-tRaJIlgtu",
        "outputId": "27375cd0-7be5-498d-fa47-dd26e7cdd0b0",
        "colab": {
          "base_uri": "https://localhost:8080/"
        }
      },
      "id": "4T-tRaJIlgtu",
      "execution_count": 2,
      "outputs": [
        {
          "output_type": "stream",
          "name": "stdout",
          "text": [
            "Enter the first number: 85\n",
            "Enter the second number: 94\n",
            "Sum: 179.0\n",
            "Division: 0.9042553191489362\n"
          ]
        }
      ]
    },
    {
      "cell_type": "markdown",
      "id": "af6e2429",
      "metadata": {
        "id": "af6e2429"
      },
      "source": [
        "### 3. Write a Python program to find the area of a triangle?\n"
      ]
    },
    {
      "cell_type": "code",
      "source": [
        "# Input the base and height of the triangle from the user\n",
        "base = float(input(\"Enter the base of the triangle: \"))\n",
        "height = float(input(\"Enter the height of the triangle: \"))\n",
        "\n",
        "# Calculate the area of the triangle\n",
        "area = 0.5 * base * height\n",
        "\n",
        "# Display the result\n",
        "print(\"The area of the triangle is:\", area)\n"
      ],
      "metadata": {
        "id": "PMtCE4qklxl3",
        "outputId": "e1bf88a6-2a46-4e36-e6f4-681cb3452346",
        "colab": {
          "base_uri": "https://localhost:8080/"
        }
      },
      "id": "PMtCE4qklxl3",
      "execution_count": 3,
      "outputs": [
        {
          "output_type": "stream",
          "name": "stdout",
          "text": [
            "Enter the base of the triangle: 14.8\n",
            "Enter the height of the triangle: 87.3\n",
            "The area of the triangle is: 646.02\n"
          ]
        }
      ]
    },
    {
      "cell_type": "markdown",
      "id": "b8140061",
      "metadata": {
        "id": "b8140061"
      },
      "source": [
        "### 4. Write a Python program to swap two variables?\n"
      ]
    },
    {
      "cell_type": "code",
      "source": [
        "# Input two variables from the user\n",
        "variable1 = input(\"Enter the first variable: \")\n",
        "variable2 = input(\"Enter the second variable: \")\n",
        "\n",
        "# Display the original values before swapping\n",
        "print(\"Before swapping:\")\n",
        "print(\"Variable 1 =\", variable1)\n",
        "print(\"Variable 2 =\", variable2)\n",
        "\n",
        "# Swap the values using a temporary variable\n",
        "temp = variable1\n",
        "variable1 = variable2\n",
        "variable2 = temp\n",
        "\n",
        "# Display the swapped values\n",
        "print(\"\\nAfter swapping:\")\n",
        "print(\"Variable 1 =\", variable1)\n",
        "print(\"Variable 2 =\", variable2)\n"
      ],
      "metadata": {
        "id": "MFd6nvGOl95j",
        "outputId": "e4ae60dc-2a9a-4e0c-9ca6-410205c65d1a",
        "colab": {
          "base_uri": "https://localhost:8080/"
        }
      },
      "id": "MFd6nvGOl95j",
      "execution_count": 4,
      "outputs": [
        {
          "output_type": "stream",
          "name": "stdout",
          "text": [
            "Enter the first variable: pearl\n",
            "Enter the second variable: lola\n",
            "Before swapping:\n",
            "Variable 1 = pearl\n",
            "Variable 2 = lola\n",
            "\n",
            "After swapping:\n",
            "Variable 1 = lola\n",
            "Variable 2 = pearl\n"
          ]
        }
      ]
    },
    {
      "cell_type": "markdown",
      "id": "3f8054c1",
      "metadata": {
        "id": "3f8054c1"
      },
      "source": [
        "### 5. Write a Python program to generate a random number?\n"
      ]
    },
    {
      "cell_type": "code",
      "source": [
        "import random\n",
        "\n",
        "# Generate a random integer between a specified range (e.g., 1 to 100)\n",
        "random_number = random.randint(1, 100)\n",
        "\n",
        "# Display the generated random number\n",
        "print(\"Random Number:\", random_number)\n"
      ],
      "metadata": {
        "id": "hjFTm0GJmLA9",
        "outputId": "0863b424-6bb8-4b04-adfd-7bd134199540",
        "colab": {
          "base_uri": "https://localhost:8080/"
        }
      },
      "id": "hjFTm0GJmLA9",
      "execution_count": 6,
      "outputs": [
        {
          "output_type": "stream",
          "name": "stdout",
          "text": [
            "Random Number: 71\n"
          ]
        }
      ]
    }
  ],
  "metadata": {
    "kernelspec": {
      "display_name": "Python 3 (ipykernel)",
      "language": "python",
      "name": "python3"
    },
    "language_info": {
      "codemirror_mode": {
        "name": "ipython",
        "version": 3
      },
      "file_extension": ".py",
      "mimetype": "text/x-python",
      "name": "python",
      "nbconvert_exporter": "python",
      "pygments_lexer": "ipython3",
      "version": "3.9.12"
    },
    "colab": {
      "provenance": [],
      "include_colab_link": true
    }
  },
  "nbformat": 4,
  "nbformat_minor": 5
}