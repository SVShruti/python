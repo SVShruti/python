{
  "cells": [
    {
      "cell_type": "markdown",
      "metadata": {
        "id": "view-in-github",
        "colab_type": "text"
      },
      "source": [
        "<a href=\"https://colab.research.google.com/github/SVShruti/python/blob/main/Programming_Assignment_10.ipynb\" target=\"_parent\"><img src=\"https://colab.research.google.com/assets/colab-badge.svg\" alt=\"Open In Colab\"/></a>"
      ]
    },
    {
      "cell_type": "markdown",
      "id": "3dcb940f",
      "metadata": {
        "id": "3dcb940f"
      },
      "source": [
        "## Python Basic Programming Assignment 10"
      ]
    },
    {
      "cell_type": "markdown",
      "id": "6720790a",
      "metadata": {
        "id": "6720790a"
      },
      "source": [
        "### 1. Write a Python program to find sum of elements in list?"
      ]
    },
    {
      "cell_type": "code",
      "source": [
        "# Input a list of numbers\n",
        "num_list = [int(x) for x in input(\"Enter a list of numbers separated by spaces: \").split()]\n",
        "\n",
        "# Initialize a variable to store the sum\n",
        "total = 0\n",
        "\n",
        "# Calculate the sum using a loop\n",
        "for num in num_list:\n",
        "    total += num\n",
        "\n",
        "# Display the sum\n",
        "print(\"Sum of elements in the list:\", total)\n"
      ],
      "metadata": {
        "id": "n9ITM7vv37KW",
        "outputId": "7f0ccb7f-b271-4ce3-d0f1-c0d1a84bf072",
        "colab": {
          "base_uri": "https://localhost:8080/"
        }
      },
      "id": "n9ITM7vv37KW",
      "execution_count": 1,
      "outputs": [
        {
          "output_type": "stream",
          "name": "stdout",
          "text": [
            "Enter a list of numbers separated by spaces: 21 45 8 6 12 11 41 18\n",
            "Sum of elements in the list: 162\n"
          ]
        }
      ]
    },
    {
      "cell_type": "markdown",
      "id": "fe1137c3",
      "metadata": {
        "id": "fe1137c3"
      },
      "source": [
        "### 2. Write a Python program to  Multiply all numbers in the list?"
      ]
    },
    {
      "cell_type": "code",
      "source": [
        "# Input a list of numbers\n",
        "num_list = [int(x) for x in input(\"Enter a list of numbers separated by spaces: \").split()]\n",
        "\n",
        "# Initialize a variable to store the product\n",
        "product = 1\n",
        "\n",
        "# Calculate the product using a loop\n",
        "for num in num_list:\n",
        "    product *= num\n",
        "\n",
        "# Display the product\n",
        "print(\"Product of elements in the list:\", product)\n"
      ],
      "metadata": {
        "id": "3vE4anls40DP",
        "outputId": "5da20276-8af1-4c10-e43f-04d55c3389eb",
        "colab": {
          "base_uri": "https://localhost:8080/"
        }
      },
      "id": "3vE4anls40DP",
      "execution_count": 3,
      "outputs": [
        {
          "output_type": "stream",
          "name": "stdout",
          "text": [
            "Enter a list of numbers separated by spaces: 12 13 78 17 18 11 15 27\n",
            "Product of elements in the list: 16587782640\n"
          ]
        }
      ]
    },
    {
      "cell_type": "markdown",
      "id": "078681db",
      "metadata": {
        "id": "078681db"
      },
      "source": [
        "### 3. Write a Python program to find smallest number in a list?"
      ]
    },
    {
      "cell_type": "code",
      "source": [
        "# Input a list of numbers\n",
        "num_list = [int(x) for x in input(\"Enter a list of numbers separated by spaces: \").split()]\n",
        "\n",
        "# Find the smallest number using the built-in min() function\n",
        "smallest = min(num_list)\n",
        "\n",
        "# Display the smallest number\n",
        "print(\"Smallest number in the list:\", smallest)\n"
      ],
      "metadata": {
        "id": "KMDjLwvq5A6N",
        "outputId": "bf6b25e0-d081-473a-89fe-81afa9b500a9",
        "colab": {
          "base_uri": "https://localhost:8080/"
        }
      },
      "id": "KMDjLwvq5A6N",
      "execution_count": 4,
      "outputs": [
        {
          "output_type": "stream",
          "name": "stdout",
          "text": [
            "Enter a list of numbers separated by spaces: 1 2 8 78 9 15 63 47\n",
            "Smallest number in the list: 1\n"
          ]
        }
      ]
    },
    {
      "cell_type": "markdown",
      "id": "12b04397",
      "metadata": {
        "id": "12b04397"
      },
      "source": [
        "### 4. Write a Python program to find largest number in a list?"
      ]
    },
    {
      "cell_type": "code",
      "source": [
        "# Input a list of numbers\n",
        "num_list = [int(x) for x in input(\"Enter a list of numbers separated by spaces: \").split()]\n",
        "\n",
        "# Find the largest number using the built-in max() function\n",
        "largest = max(num_list)\n",
        "\n",
        "# Display the largest number\n",
        "print(\"Largest number in the list:\", largest)\n",
        "\n"
      ],
      "metadata": {
        "id": "DL_c8iK35Nbs",
        "outputId": "00d1bb37-9445-4db8-93e3-6dffe2df4ad7",
        "colab": {
          "base_uri": "https://localhost:8080/"
        }
      },
      "id": "DL_c8iK35Nbs",
      "execution_count": 6,
      "outputs": [
        {
          "output_type": "stream",
          "name": "stdout",
          "text": [
            "Enter a list of numbers separated by spaces: 87 85 45 65 52 12 45 99999 91947852\n",
            "Largest number in the list: 91947852\n"
          ]
        }
      ]
    },
    {
      "cell_type": "markdown",
      "id": "86442b51",
      "metadata": {
        "id": "86442b51"
      },
      "source": [
        "### 5. Write a Python program to find second largest number in a list?"
      ]
    },
    {
      "cell_type": "code",
      "source": [
        "# Input a list of numbers\n",
        "num_list = [int(x) for x in input(\"Enter a list of numbers separated by spaces: \").split()]\n",
        "\n",
        "# Initialize variables to store the largest and second largest numbers\n",
        "largest = second_largest = float('-inf')\n",
        "\n",
        "# Find the largest and second largest numbers\n",
        "for num in num_list:\n",
        "    if num > largest:\n",
        "        second_largest = largest\n",
        "        largest = num\n",
        "    elif num > second_largest and num != largest:\n",
        "        second_largest = num\n",
        "\n",
        "# Display the second largest number\n",
        "if second_largest != float('-inf'):\n",
        "    print(\"Second largest number in the list:\", second_largest)\n",
        "else:\n",
        "    print(\"There is no second largest number in the list.\")\n"
      ],
      "metadata": {
        "id": "F3M9zvkF5s8m",
        "outputId": "ad7e0301-de45-42a1-e712-9b800a0ba2ea",
        "colab": {
          "base_uri": "https://localhost:8080/"
        }
      },
      "id": "F3M9zvkF5s8m",
      "execution_count": 7,
      "outputs": [
        {
          "output_type": "stream",
          "name": "stdout",
          "text": [
            "Enter a list of numbers separated by spaces: 45 85 96 32 45 75 58 56 62 41 10 58  65\n",
            "Second largest number in the list: 85\n"
          ]
        }
      ]
    },
    {
      "cell_type": "markdown",
      "id": "10964d7d",
      "metadata": {
        "id": "10964d7d"
      },
      "source": [
        "### 6. Write a Python program to find N largest elements from a list?"
      ]
    },
    {
      "cell_type": "code",
      "source": [
        "import heapq\n",
        "\n",
        "# Input a list of numbers\n",
        "num_list = [int(x) for x in input(\"Enter a list of numbers separated by spaces: \").split()]\n",
        "\n",
        "# Input the value of N\n",
        "N = int(input(\"Enter the value of N: \"))\n",
        "\n",
        "# Find the N largest elements using heapq.nlargest\n",
        "if N > 0 and N <= len(num_list):\n",
        "    largest_elements = heapq.nlargest(N, num_list)\n",
        "    print(f\"The {N} largest elements in the list are:\", largest_elements)\n",
        "else:\n",
        "    print(\"Invalid value of N. N should be greater than 0 and less than or equal to the length of the list.\")\n"
      ],
      "metadata": {
        "id": "6UI83BbQ6Vfb",
        "outputId": "3915ecd9-f8cc-4620-a134-1d71482e5b39",
        "colab": {
          "base_uri": "https://localhost:8080/"
        }
      },
      "id": "6UI83BbQ6Vfb",
      "execution_count": 8,
      "outputs": [
        {
          "output_type": "stream",
          "name": "stdout",
          "text": [
            "Enter a list of numbers separated by spaces: 45 56 12 23 78 89 87 89 75 41 23 20 10 45 80 90 78 55\n",
            "Enter the value of N: 6\n",
            "The 6 largest elements in the list are: [90, 89, 89, 87, 80, 78]\n"
          ]
        }
      ]
    },
    {
      "cell_type": "markdown",
      "id": "2f1a1e98",
      "metadata": {
        "id": "2f1a1e98"
      },
      "source": [
        "### 7. Write a Python program to print even numbers in a list?"
      ]
    },
    {
      "cell_type": "code",
      "source": [
        "# Input a list of numbers\n",
        "num_list = [int(x) for x in input(\"Enter a list of numbers separated by spaces: \").split()]\n",
        "\n",
        "# Initialize a list to store even numbers\n",
        "even_numbers = []\n",
        "\n",
        "# Iterate through the list and add even numbers to the even_numbers list\n",
        "for num in num_list:\n",
        "    if num % 2 == 0:\n",
        "        even_numbers.append(num)\n",
        "\n",
        "# Display the even numbers\n",
        "print(\"Even numbers in the list:\", even_numbers)\n"
      ],
      "metadata": {
        "id": "lF1qGWZH6r3U",
        "outputId": "d2ae0b39-2290-4a14-e8a6-54978ab48166",
        "colab": {
          "base_uri": "https://localhost:8080/"
        }
      },
      "id": "lF1qGWZH6r3U",
      "execution_count": 9,
      "outputs": [
        {
          "output_type": "stream",
          "name": "stdout",
          "text": [
            "Enter a list of numbers separated by spaces: 45 78 12 32 65 98 75 53 15 59 47 48 49 54 51 50\n",
            "Even numbers in the list: [78, 12, 32, 98, 48, 54, 50]\n"
          ]
        }
      ]
    },
    {
      "cell_type": "markdown",
      "id": "989bb324",
      "metadata": {
        "id": "989bb324"
      },
      "source": [
        "### 8. Write a Python program to print odd numbers in a List?"
      ]
    },
    {
      "cell_type": "code",
      "source": [
        "# Input a list of numbers\n",
        "num_list = [int(x) for x in input(\"Enter a list of numbers separated by spaces: \").split()]\n",
        "\n",
        "# Initialize a list to store odd numbers\n",
        "odd_numbers = []\n",
        "\n",
        "# Iterate through the list and add odd numbers to the odd_numbers list\n",
        "for num in num_list:\n",
        "    if num % 2 != 0:\n",
        "        odd_numbers.append(num)\n",
        "\n",
        "# Display the odd numbers\n",
        "print(\"Odd numbers in the list:\", odd_numbers)\n"
      ],
      "metadata": {
        "id": "a1k6L5ef64O0",
        "outputId": "d173ec6a-49ac-429f-ff71-e0f12a0d5141",
        "colab": {
          "base_uri": "https://localhost:8080/"
        }
      },
      "id": "a1k6L5ef64O0",
      "execution_count": 10,
      "outputs": [
        {
          "output_type": "stream",
          "name": "stdout",
          "text": [
            "Enter a list of numbers separated by spaces: 12 13 45 46 78 79 98 65 32  75 48 16 20\n",
            "Odd numbers in the list: [13, 45, 79, 65, 75]\n"
          ]
        }
      ]
    },
    {
      "cell_type": "markdown",
      "id": "185b7b13",
      "metadata": {
        "id": "185b7b13"
      },
      "source": [
        "### 9. Write a Python program to Remove empty List from List?"
      ]
    },
    {
      "cell_type": "code",
      "source": [
        "# Input a list of lists\n",
        "list_of_lists = [[1, 2, 3], [], [4, 5], [], [6]]\n",
        "\n",
        "# Remove empty lists using a list comprehension\n",
        "non_empty_lists = [lst for lst in list_of_lists if lst]\n",
        "\n",
        "# Display the list without empty lists\n",
        "print(\"List without empty lists:\", non_empty_lists)\n"
      ],
      "metadata": {
        "id": "EfjzmZIv7CpM",
        "outputId": "446c3353-7480-4b09-8309-d6f17334bca5",
        "colab": {
          "base_uri": "https://localhost:8080/"
        }
      },
      "id": "EfjzmZIv7CpM",
      "execution_count": 11,
      "outputs": [
        {
          "output_type": "stream",
          "name": "stdout",
          "text": [
            "List without empty lists: [[1, 2, 3], [4, 5], [6]]\n"
          ]
        }
      ]
    },
    {
      "cell_type": "markdown",
      "id": "278cfacc",
      "metadata": {
        "id": "278cfacc"
      },
      "source": [
        "### 10. Write a Python program to Cloning or Copying a list?"
      ]
    },
    {
      "cell_type": "code",
      "source": [
        "# Original list\n",
        "original_list = [1, 2, 3, 4, 5]\n",
        "\n",
        "# Create a copy of the list using the copy() method\n",
        "copied_list = original_list.copy()\n",
        "\n",
        "# Display the copied list\n",
        "print(\"Copied list:\", copied_list)\n",
        "\n"
      ],
      "metadata": {
        "id": "3IX1Eez_7KxQ",
        "outputId": "537545c8-a62f-4a79-dda6-d901b11d9d29",
        "colab": {
          "base_uri": "https://localhost:8080/"
        }
      },
      "id": "3IX1Eez_7KxQ",
      "execution_count": 12,
      "outputs": [
        {
          "output_type": "stream",
          "name": "stdout",
          "text": [
            "Copied list: [1, 2, 3, 4, 5]\n"
          ]
        }
      ]
    },
    {
      "cell_type": "markdown",
      "id": "b359bedf",
      "metadata": {
        "id": "b359bedf"
      },
      "source": [
        "### 11. Write a Python program to Count occurrences of an element in a list?"
      ]
    },
    {
      "cell_type": "code",
      "source": [
        "# Input a list of numbers\n",
        "num_list = [int(x) for x in input(\"Enter a list of numbers separated by spaces: \").split()]\n",
        "\n",
        "# Input the element to count\n",
        "element_to_count = int(input(\"Enter the element to count: \"))\n",
        "\n",
        "# Use the count() method to count occurrences\n",
        "count = num_list.count(element_to_count)\n",
        "\n",
        "# Display the count\n",
        "print(f\"The element {element_to_count} appears {count} times in the list.\")\n"
      ],
      "metadata": {
        "id": "hk04-XPE7Sh9",
        "outputId": "b4369604-aedf-4220-9f68-5e4301f1ad82",
        "colab": {
          "base_uri": "https://localhost:8080/"
        }
      },
      "id": "hk04-XPE7Sh9",
      "execution_count": 14,
      "outputs": [
        {
          "output_type": "stream",
          "name": "stdout",
          "text": [
            "Enter a list of numbers separated by spaces: 75 76 78 79 75 75 12 48 75 63 75 84 84 96 99 100\n",
            "Enter the element to count: 75\n",
            "The element 75 appears 5 times in the list.\n"
          ]
        }
      ]
    }
  ],
  "metadata": {
    "kernelspec": {
      "display_name": "Python 3 (ipykernel)",
      "language": "python",
      "name": "python3"
    },
    "language_info": {
      "codemirror_mode": {
        "name": "ipython",
        "version": 3
      },
      "file_extension": ".py",
      "mimetype": "text/x-python",
      "name": "python",
      "nbconvert_exporter": "python",
      "pygments_lexer": "ipython3",
      "version": "3.9.12"
    },
    "colab": {
      "provenance": [],
      "include_colab_link": true
    }
  },
  "nbformat": 4,
  "nbformat_minor": 5
}