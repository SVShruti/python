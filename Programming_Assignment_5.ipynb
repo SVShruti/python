{
  "cells": [
    {
      "cell_type": "markdown",
      "metadata": {
        "id": "view-in-github",
        "colab_type": "text"
      },
      "source": [
        "<a href=\"https://colab.research.google.com/github/SVShruti/python/blob/main/Programming_Assignment_5.ipynb\" target=\"_parent\"><img src=\"https://colab.research.google.com/assets/colab-badge.svg\" alt=\"Open In Colab\"/></a>"
      ]
    },
    {
      "cell_type": "markdown",
      "id": "4ac9602a",
      "metadata": {
        "id": "4ac9602a"
      },
      "source": [
        "## Python Basic Programming Assignment - 5\n",
        "--------------\n"
      ]
    },
    {
      "cell_type": "markdown",
      "id": "fdaeee06",
      "metadata": {
        "id": "fdaeee06"
      },
      "source": [
        "### 1. Write a Python Program to Find LCM?"
      ]
    },
    {
      "cell_type": "code",
      "source": [
        "# Input two numbers from the user\n",
        "num1 = int(input(\"Enter the first number: \"))\n",
        "num2 = int(input(\"Enter the second number: \"))\n",
        "\n",
        "# Find the maximum of the two numbers\n",
        "max_num = max(num1, num2)\n",
        "\n",
        "# Initialize the LCM to the larger of the two numbers\n",
        "lcm = max_num\n",
        "\n",
        "# Use a loop to find the LCM\n",
        "while True:\n",
        "    if lcm % num1 == 0 and lcm % num2 == 0:\n",
        "        break\n",
        "    lcm += max_num\n",
        "\n",
        "# Display the LCM\n",
        "print(f\"The LCM of {num1} and {num2} is {lcm}\")\n"
      ],
      "metadata": {
        "id": "4pUyewQfpcGM",
        "outputId": "b2a8dde6-390c-480d-87c2-799c030e14cf",
        "colab": {
          "base_uri": "https://localhost:8080/"
        }
      },
      "id": "4pUyewQfpcGM",
      "execution_count": 2,
      "outputs": [
        {
          "output_type": "stream",
          "name": "stdout",
          "text": [
            "Enter the first number: 25\n",
            "Enter the second number: 10\n",
            "The LCM of 25 and 10 is 50\n"
          ]
        }
      ]
    },
    {
      "cell_type": "markdown",
      "id": "2f459cdf",
      "metadata": {
        "id": "2f459cdf"
      },
      "source": [
        "### 2. Write a Python Program to Find HCF?"
      ]
    },
    {
      "cell_type": "code",
      "source": [
        "# Function to calculate the HCF/GCD of two numbers\n",
        "def calculate_hcf(num1, num2):\n",
        "    while num2:\n",
        "        num1, num2 = num2, num1 % num2\n",
        "    return num1\n",
        "\n",
        "# Input two numbers from the user\n",
        "num1 = int(input(\"Enter the first number: \"))\n",
        "num2 = int(input(\"Enter the second number: \"))\n",
        "\n",
        "# Calculate and display the HCF\n",
        "hcf = calculate_hcf(num1, num2)\n",
        "print(f\"The HCF of {num1} and {num2} is {hcf}\")\n"
      ],
      "metadata": {
        "id": "-n7tFUraphko",
        "outputId": "765f9f5e-7806-41f3-c83a-17ab002e72a7",
        "colab": {
          "base_uri": "https://localhost:8080/"
        }
      },
      "id": "-n7tFUraphko",
      "execution_count": 1,
      "outputs": [
        {
          "output_type": "stream",
          "name": "stdout",
          "text": [
            "Enter the first number: 4\n",
            "Enter the second number: 2\n",
            "The HCF of 4 and 2 is 2\n"
          ]
        }
      ]
    },
    {
      "cell_type": "markdown",
      "id": "d2c29370",
      "metadata": {
        "id": "d2c29370"
      },
      "source": [
        "### 3. Write a Python Program to Convert Decimal to Binary, Octal and Hexadecimal?"
      ]
    },
    {
      "cell_type": "code",
      "source": [
        "# Input a decimal number from the user\n",
        "decimal_num = int(input(\"Enter a decimal number: \"))\n",
        "\n",
        "# Convert to binary, octal, and hexadecimal\n",
        "binary_num = bin(decimal_num)\n",
        "octal_num = oct(decimal_num)\n",
        "hexadecimal_num = hex(decimal_num)\n",
        "\n",
        "# Display the results\n",
        "print(f\"Decimal: {decimal_num}\")\n",
        "print(f\"Binary: {binary_num}\")\n",
        "print(f\"Octal: {octal_num}\")\n",
        "print(f\"Hexadecimal: {hexadecimal_num}\")\n"
      ],
      "metadata": {
        "id": "mqT1PUYKp3FA",
        "outputId": "ff88b5b5-6bd7-4bba-e54f-28b418861029",
        "colab": {
          "base_uri": "https://localhost:8080/"
        }
      },
      "id": "mqT1PUYKp3FA",
      "execution_count": 4,
      "outputs": [
        {
          "output_type": "stream",
          "name": "stdout",
          "text": [
            "Enter a decimal number: 15\n",
            "Decimal: 15\n",
            "Binary: 0b1111\n",
            "Octal: 0o17\n",
            "Hexadecimal: 0xf\n"
          ]
        }
      ]
    },
    {
      "cell_type": "markdown",
      "id": "2a16c5fd",
      "metadata": {
        "id": "2a16c5fd"
      },
      "source": [
        "### 4. Write a Python Program To Find ASCII value of a character?"
      ]
    },
    {
      "cell_type": "code",
      "source": [
        "# Input a character from the user\n",
        "char = input(\"Enter a character: \")\n",
        "\n",
        "# Check if the input is a single character\n",
        "if len(char) != 1:\n",
        "    print(\"Please enter a single character.\")\n",
        "else:\n",
        "    # Use the ord() function to find the ASCII value\n",
        "    ascii_value = ord(char)\n",
        "\n",
        "    # Display the ASCII value\n",
        "    print(f\"The ASCII value of '{char}' is {ascii_value}\")\n",
        "\n"
      ],
      "metadata": {
        "id": "Wnj03lE6qGuG",
        "outputId": "dc255712-b9d7-4956-b848-342efb7eda61",
        "colab": {
          "base_uri": "https://localhost:8080/"
        }
      },
      "id": "Wnj03lE6qGuG",
      "execution_count": 9,
      "outputs": [
        {
          "output_type": "stream",
          "name": "stdout",
          "text": [
            "Enter a character: 7\n",
            "The ASCII value of '7' is 55\n"
          ]
        }
      ]
    },
    {
      "cell_type": "markdown",
      "id": "226778a0",
      "metadata": {
        "id": "226778a0"
      },
      "source": [
        "### 5. Write a Python Program to Make a Simple Calculator with 4 basic mathematical operations?"
      ]
    },
    {
      "cell_type": "code",
      "source": [
        "# Function to perform addition\n",
        "def add(x, y):\n",
        "    return x + y\n",
        "\n",
        "# Function to perform subtraction\n",
        "def subtract(x, y):\n",
        "    return x - y\n",
        "\n",
        "# Function to perform multiplication\n",
        "def multiply(x, y):\n",
        "    return x * y\n",
        "\n",
        "# Function to perform division\n",
        "def divide(x, y):\n",
        "    if y == 0:\n",
        "        return \"Cannot divide by zero\"\n",
        "    return x / y\n",
        "\n",
        "# Main calculator loop\n",
        "while True:\n",
        "    print(\"Options:\")\n",
        "    print(\"Enter 'add' for addition\")\n",
        "    print(\"Enter 'subtract' for subtraction\")\n",
        "    print(\"Enter 'multiply' for multiplication\")\n",
        "    print(\"Enter 'divide' for division\")\n",
        "    print(\"Enter 'quit' to end the program\")\n",
        "\n",
        "    user_input = input(\": \")\n",
        "\n",
        "    if user_input == \"quit\":\n",
        "        break\n",
        "    elif user_input in (\"add\", \"subtract\", \"multiply\", \"divide\"):\n",
        "        num1 = float(input(\"Enter first number: \"))\n",
        "        num2 = float(input(\"Enter second number: \"))\n",
        "\n",
        "        if user_input == \"add\":\n",
        "            print(\"Result:\", add(num1, num2))\n",
        "        elif user_input == \"subtract\":\n",
        "            print(\"Result:\", subtract(num1, num2))\n",
        "        elif user_input == \"multiply\":\n",
        "            print(\"Result:\", multiply(num1, num2))\n",
        "        elif user_input == \"divide\":\n",
        "            print(\"Result:\", divide(num1, num2))\n",
        "    else:\n",
        "        print(\"Invalid input\")\n",
        "\n"
      ],
      "metadata": {
        "id": "FuSQce7aqhzy",
        "outputId": "300677a5-ff6a-458b-912c-b93a7c037a49",
        "colab": {
          "base_uri": "https://localhost:8080/"
        }
      },
      "id": "FuSQce7aqhzy",
      "execution_count": 12,
      "outputs": [
        {
          "name": "stdout",
          "output_type": "stream",
          "text": [
            "Options:\n",
            "Enter 'add' for addition\n",
            "Enter 'subtract' for subtraction\n",
            "Enter 'multiply' for multiplication\n",
            "Enter 'divide' for division\n",
            "Enter 'quit' to end the program\n",
            ": multiply\n",
            "Enter first number: 45\n",
            "Enter second number: 5\n",
            "Result: 225.0\n",
            "Options:\n",
            "Enter 'add' for addition\n",
            "Enter 'subtract' for subtraction\n",
            "Enter 'multiply' for multiplication\n",
            "Enter 'divide' for division\n",
            "Enter 'quit' to end the program\n",
            ": add\n",
            "Enter first number: 845\n",
            "Enter second number: 632\n",
            "Result: 1477.0\n",
            "Options:\n",
            "Enter 'add' for addition\n",
            "Enter 'subtract' for subtraction\n",
            "Enter 'multiply' for multiplication\n",
            "Enter 'divide' for division\n",
            "Enter 'quit' to end the program\n",
            ": quit\n"
          ]
        }
      ]
    }
  ],
  "metadata": {
    "kernelspec": {
      "display_name": "Python 3 (ipykernel)",
      "language": "python",
      "name": "python3"
    },
    "language_info": {
      "codemirror_mode": {
        "name": "ipython",
        "version": 3
      },
      "file_extension": ".py",
      "mimetype": "text/x-python",
      "name": "python",
      "nbconvert_exporter": "python",
      "pygments_lexer": "ipython3",
      "version": "3.9.12"
    },
    "colab": {
      "provenance": [],
      "include_colab_link": true
    }
  },
  "nbformat": 4,
  "nbformat_minor": 5
}